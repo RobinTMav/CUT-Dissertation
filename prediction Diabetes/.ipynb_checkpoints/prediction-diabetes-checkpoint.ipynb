{
 "cells": [
  {
   "cell_type": "markdown",
   "id": "62dd0be1",
   "metadata": {},
   "source": [
    "# Predict Diabetes using with Machine Learnin"
   ]
  },
  {
   "cell_type": "code",
   "execution_count": null,
   "id": "74572b8d",
   "metadata": {},
   "outputs": [],
   "source": []
  },
  {
   "cell_type": "code",
   "execution_count": 1,
   "id": "da224368",
   "metadata": {
    "execution": {
     "iopub.execute_input": "2023-05-16T21:36:35.964798Z",
     "iopub.status.busy": "2023-05-16T21:36:35.964351Z",
     "iopub.status.idle": "2023-05-16T21:36:35.979522Z",
     "shell.execute_reply": "2023-05-16T21:36:35.978428Z",
     "shell.execute_reply.started": "2023-05-16T21:36:35.964761Z"
    }
   },
   "outputs": [],
   "source": [
    "# Import Packages\n",
    "import pandas as pd # Used to work with datasets\n",
    "import numpy as np # Used to work with arrays\n",
    "\n",
    "\n",
    "#Visualization\n",
    "import matplotlib.pyplot as plt\n",
    "import seaborn as sns\n",
    "\n",
    "\n",
    "\n",
    "import sklearn \n",
    "from sklearn.neighbors import KNeighborsClassifier #Classifier implementing the k-nearest neighbors vote\n",
    "from sklearn.tree import DecisionTreeClassifier## is a class capable of performing multiclass classification on a dataset.\n",
    "from sklearn.svm import SVC\n",
    "from sklearn.neural_network import MLPClassifier#Iteratively trains because at each time step the partial derivatives of the loss function with respect to the model parameters are computed. \n",
    "from sklearn.linear_model import LogisticRegression\n",
    "from sklearn.discriminant_analysis import LinearDiscriminantAnalysis\n",
    "from sklearn.naive_bayes import GaussianNB\n",
    "from sklearn.mixture import BayesianGaussianMixture\n",
    "from sklearn.linear_model import SGDClassifier\n",
    "from sklearn.ensemble import RandomForestClassifier\n",
    "import lightgbm as ltb\n",
    "\n",
    "\n",
    "from sklearn.preprocessing import StandardScaler## Removes the average and scales each feature/variable for unit variance. This process is carried out in an independent manner\n",
    "from sklearn.model_selection import train_test_split , cross_val_score,KFold,GridSearchCV\n",
    "\n",
    "from sklearn.metrics import accuracy_score, precision_score, recall_score, f1_score, roc_auc_score, confusion_matrix,classification_report\n",
    "#from sklearn.metrics import plot_confusion_matrix\n",
    "\n",
    "\n",
    "\n",
    "import warnings\n",
    "warnings.filterwarnings(\"ignore\")\n",
    "\n",
    "%matplotlib inline"
   ]
  },
  {
   "cell_type": "markdown",
   "id": "78e039e6",
   "metadata": {},
   "source": [
    "<h3>Data </h3>\n",
    "\n",
    "Pregnancies: Number of times pregnant\n",
    "\n",
    "Glucose: Plasma glucose concentration a 2 hours in an oral glucose tolerance test\n",
    "\n",
    "BloodPressure: Diastolic blood pressure (mm Hg)\n",
    "\n",
    "SkinThickness: Triceps skin fold thickness (mm)\n",
    "\n",
    "Insulin: 2-Hour serum insulin (mu U/ml)\n",
    "\n",
    "BMI: Body mass index (weight in kg/(height in m)^2)\n",
    "\n",
    "DiabetesPedigreeFunction: Diabetes pedigree function\n",
    "\n",
    "Age: Age (years)\n",
    "\n",
    "Outcome: Class variable (0 or 1)"
   ]
  },
  {
   "cell_type": "code",
   "execution_count": 2,
   "id": "ea29a7c4",
   "metadata": {
    "execution": {
     "iopub.execute_input": "2023-05-16T21:36:35.982247Z",
     "iopub.status.busy": "2023-05-16T21:36:35.981894Z",
     "iopub.status.idle": "2023-05-16T21:36:36.033319Z",
     "shell.execute_reply": "2023-05-16T21:36:36.031885Z",
     "shell.execute_reply.started": "2023-05-16T21:36:35.982216Z"
    }
   },
   "outputs": [],
   "source": [
    "#read data\n",
    "diabetes = pd.read_csv('diabetes.csv')\n"
   ]
  },
  {
   "cell_type": "code",
   "execution_count": 3,
   "id": "987edb61",
   "metadata": {
    "execution": {
     "iopub.execute_input": "2023-05-16T21:36:36.035025Z",
     "iopub.status.busy": "2023-05-16T21:36:36.034683Z",
     "iopub.status.idle": "2023-05-16T21:36:36.041520Z",
     "shell.execute_reply": "2023-05-16T21:36:36.040327Z",
     "shell.execute_reply.started": "2023-05-16T21:36:36.034993Z"
    }
   },
   "outputs": [
    {
     "name": "stdout",
     "output_type": "stream",
     "text": [
      "Index(['Pregnancies', 'Glucose', 'BloodPressure', 'SkinThickness', 'Insulin',\n",
      "       'BMI', 'DiabetesPedigreeFunction', 'Age', 'Outcome'],\n",
      "      dtype='object')\n"
     ]
    }
   ],
   "source": [
    "#name columns \n",
    "print(diabetes.columns) "
   ]
  },
  {
   "cell_type": "code",
   "execution_count": 4,
   "id": "434188ab",
   "metadata": {
    "execution": {
     "iopub.execute_input": "2023-05-16T21:36:36.043256Z",
     "iopub.status.busy": "2023-05-16T21:36:36.042926Z",
     "iopub.status.idle": "2023-05-16T21:36:36.086505Z",
     "shell.execute_reply": "2023-05-16T21:36:36.085320Z",
     "shell.execute_reply.started": "2023-05-16T21:36:36.043227Z"
    }
   },
   "outputs": [
    {
     "data": {
      "text/html": [
       "<div>\n",
       "<style scoped>\n",
       "    .dataframe tbody tr th:only-of-type {\n",
       "        vertical-align: middle;\n",
       "    }\n",
       "\n",
       "    .dataframe tbody tr th {\n",
       "        vertical-align: top;\n",
       "    }\n",
       "\n",
       "    .dataframe thead th {\n",
       "        text-align: right;\n",
       "    }\n",
       "</style>\n",
       "<table border=\"1\" class=\"dataframe\">\n",
       "  <thead>\n",
       "    <tr style=\"text-align: right;\">\n",
       "      <th></th>\n",
       "      <th>Pregnancies</th>\n",
       "      <th>Glucose</th>\n",
       "      <th>BloodPressure</th>\n",
       "      <th>SkinThickness</th>\n",
       "      <th>Insulin</th>\n",
       "      <th>BMI</th>\n",
       "      <th>DiabetesPedigreeFunction</th>\n",
       "      <th>Age</th>\n",
       "      <th>Outcome</th>\n",
       "    </tr>\n",
       "  </thead>\n",
       "  <tbody>\n",
       "    <tr>\n",
       "      <th>0</th>\n",
       "      <td>6</td>\n",
       "      <td>148</td>\n",
       "      <td>72</td>\n",
       "      <td>35</td>\n",
       "      <td>0</td>\n",
       "      <td>33.6</td>\n",
       "      <td>0.627</td>\n",
       "      <td>50</td>\n",
       "      <td>1</td>\n",
       "    </tr>\n",
       "    <tr>\n",
       "      <th>1</th>\n",
       "      <td>1</td>\n",
       "      <td>85</td>\n",
       "      <td>66</td>\n",
       "      <td>29</td>\n",
       "      <td>0</td>\n",
       "      <td>26.6</td>\n",
       "      <td>0.351</td>\n",
       "      <td>31</td>\n",
       "      <td>0</td>\n",
       "    </tr>\n",
       "    <tr>\n",
       "      <th>2</th>\n",
       "      <td>8</td>\n",
       "      <td>183</td>\n",
       "      <td>64</td>\n",
       "      <td>0</td>\n",
       "      <td>0</td>\n",
       "      <td>23.3</td>\n",
       "      <td>0.672</td>\n",
       "      <td>32</td>\n",
       "      <td>1</td>\n",
       "    </tr>\n",
       "    <tr>\n",
       "      <th>3</th>\n",
       "      <td>1</td>\n",
       "      <td>89</td>\n",
       "      <td>66</td>\n",
       "      <td>23</td>\n",
       "      <td>94</td>\n",
       "      <td>28.1</td>\n",
       "      <td>0.167</td>\n",
       "      <td>21</td>\n",
       "      <td>0</td>\n",
       "    </tr>\n",
       "    <tr>\n",
       "      <th>4</th>\n",
       "      <td>0</td>\n",
       "      <td>137</td>\n",
       "      <td>40</td>\n",
       "      <td>35</td>\n",
       "      <td>168</td>\n",
       "      <td>43.1</td>\n",
       "      <td>2.288</td>\n",
       "      <td>33</td>\n",
       "      <td>1</td>\n",
       "    </tr>\n",
       "  </tbody>\n",
       "</table>\n",
       "</div>"
      ],
      "text/plain": [
       "   Pregnancies  Glucose  BloodPressure  SkinThickness  Insulin   BMI  \\\n",
       "0            6      148             72             35        0  33.6   \n",
       "1            1       85             66             29        0  26.6   \n",
       "2            8      183             64              0        0  23.3   \n",
       "3            1       89             66             23       94  28.1   \n",
       "4            0      137             40             35      168  43.1   \n",
       "\n",
       "   DiabetesPedigreeFunction  Age  Outcome  \n",
       "0                     0.627   50        1  \n",
       "1                     0.351   31        0  \n",
       "2                     0.672   32        1  \n",
       "3                     0.167   21        0  \n",
       "4                     2.288   33        1  "
      ]
     },
     "execution_count": 4,
     "metadata": {},
     "output_type": "execute_result"
    }
   ],
   "source": [
    "diabetes.head() # Show part of the data"
   ]
  },
  {
   "cell_type": "code",
   "execution_count": 5,
   "id": "3be35ac1",
   "metadata": {
    "execution": {
     "iopub.execute_input": "2023-05-16T21:36:36.092044Z",
     "iopub.status.busy": "2023-05-16T21:36:36.091666Z",
     "iopub.status.idle": "2023-05-16T21:36:36.098099Z",
     "shell.execute_reply": "2023-05-16T21:36:36.096886Z",
     "shell.execute_reply.started": "2023-05-16T21:36:36.092010Z"
    },
    "scrolled": true
   },
   "outputs": [
    {
     "name": "stdout",
     "output_type": "stream",
     "text": [
      "dimension of data: (768, 9)\n"
     ]
    }
   ],
   "source": [
    "#shape data\n",
    "print(\"dimension of data: {}\".format(diabetes.shape))"
   ]
  },
  {
   "cell_type": "markdown",
   "id": "eaab6ce6",
   "metadata": {},
   "source": [
    "The diabetes dataset consists of 768 data points, with 9 features each:"
   ]
  },
  {
   "cell_type": "code",
   "execution_count": null,
   "id": "c975dd8e",
   "metadata": {},
   "outputs": [],
   "source": []
  },
  {
   "cell_type": "code",
   "execution_count": 6,
   "id": "48ba493e",
   "metadata": {
    "execution": {
     "iopub.execute_input": "2023-05-16T21:36:36.099732Z",
     "iopub.status.busy": "2023-05-16T21:36:36.099405Z",
     "iopub.status.idle": "2023-05-16T21:36:36.134454Z",
     "shell.execute_reply": "2023-05-16T21:36:36.133314Z",
     "shell.execute_reply.started": "2023-05-16T21:36:36.099704Z"
    },
    "scrolled": true
   },
   "outputs": [
    {
     "name": "stdout",
     "output_type": "stream",
     "text": [
      "<class 'pandas.core.frame.DataFrame'>\n",
      "RangeIndex: 768 entries, 0 to 767\n",
      "Data columns (total 9 columns):\n",
      " #   Column                    Non-Null Count  Dtype  \n",
      "---  ------                    --------------  -----  \n",
      " 0   Pregnancies               768 non-null    int64  \n",
      " 1   Glucose                   768 non-null    int64  \n",
      " 2   BloodPressure             768 non-null    int64  \n",
      " 3   SkinThickness             768 non-null    int64  \n",
      " 4   Insulin                   768 non-null    int64  \n",
      " 5   BMI                       768 non-null    float64\n",
      " 6   DiabetesPedigreeFunction  768 non-null    float64\n",
      " 7   Age                       768 non-null    int64  \n",
      " 8   Outcome                   768 non-null    int64  \n",
      "dtypes: float64(2), int64(7)\n",
      "memory usage: 54.1 KB\n"
     ]
    }
   ],
   "source": [
    "## print about information  \n",
    "diabetes.info()"
   ]
  },
  {
   "cell_type": "code",
   "execution_count": 7,
   "id": "99e85645",
   "metadata": {
    "execution": {
     "iopub.execute_input": "2023-05-16T21:36:36.138325Z",
     "iopub.status.busy": "2023-05-16T21:36:36.137459Z",
     "iopub.status.idle": "2023-05-16T21:36:36.148568Z",
     "shell.execute_reply": "2023-05-16T21:36:36.147164Z",
     "shell.execute_reply.started": "2023-05-16T21:36:36.138282Z"
    }
   },
   "outputs": [
    {
     "data": {
      "text/plain": [
       "Pregnancies                 0\n",
       "Glucose                     0\n",
       "BloodPressure               0\n",
       "SkinThickness               0\n",
       "Insulin                     0\n",
       "BMI                         0\n",
       "DiabetesPedigreeFunction    0\n",
       "Age                         0\n",
       "Outcome                     0\n",
       "dtype: int64"
      ]
     },
     "execution_count": 7,
     "metadata": {},
     "output_type": "execute_result"
    }
   ],
   "source": [
    "#check is null data\n",
    "diabetes.isnull().sum()"
   ]
  },
  {
   "cell_type": "code",
   "execution_count": 8,
   "id": "9af92d7d",
   "metadata": {
    "execution": {
     "iopub.execute_input": "2023-05-16T21:36:36.151248Z",
     "iopub.status.busy": "2023-05-16T21:36:36.150158Z",
     "iopub.status.idle": "2023-05-16T21:36:36.203360Z",
     "shell.execute_reply": "2023-05-16T21:36:36.201954Z",
     "shell.execute_reply.started": "2023-05-16T21:36:36.151204Z"
    }
   },
   "outputs": [
    {
     "data": {
      "text/html": [
       "<div>\n",
       "<style scoped>\n",
       "    .dataframe tbody tr th:only-of-type {\n",
       "        vertical-align: middle;\n",
       "    }\n",
       "\n",
       "    .dataframe tbody tr th {\n",
       "        vertical-align: top;\n",
       "    }\n",
       "\n",
       "    .dataframe thead th {\n",
       "        text-align: right;\n",
       "    }\n",
       "</style>\n",
       "<table border=\"1\" class=\"dataframe\">\n",
       "  <thead>\n",
       "    <tr style=\"text-align: right;\">\n",
       "      <th></th>\n",
       "      <th>count</th>\n",
       "      <th>mean</th>\n",
       "      <th>std</th>\n",
       "      <th>min</th>\n",
       "      <th>25%</th>\n",
       "      <th>50%</th>\n",
       "      <th>75%</th>\n",
       "      <th>max</th>\n",
       "    </tr>\n",
       "  </thead>\n",
       "  <tbody>\n",
       "    <tr>\n",
       "      <th>Pregnancies</th>\n",
       "      <td>768.0</td>\n",
       "      <td>3.845052</td>\n",
       "      <td>3.369578</td>\n",
       "      <td>0.000</td>\n",
       "      <td>1.00000</td>\n",
       "      <td>3.0000</td>\n",
       "      <td>6.00000</td>\n",
       "      <td>17.00</td>\n",
       "    </tr>\n",
       "    <tr>\n",
       "      <th>Glucose</th>\n",
       "      <td>768.0</td>\n",
       "      <td>120.894531</td>\n",
       "      <td>31.972618</td>\n",
       "      <td>0.000</td>\n",
       "      <td>99.00000</td>\n",
       "      <td>117.0000</td>\n",
       "      <td>140.25000</td>\n",
       "      <td>199.00</td>\n",
       "    </tr>\n",
       "    <tr>\n",
       "      <th>BloodPressure</th>\n",
       "      <td>768.0</td>\n",
       "      <td>69.105469</td>\n",
       "      <td>19.355807</td>\n",
       "      <td>0.000</td>\n",
       "      <td>62.00000</td>\n",
       "      <td>72.0000</td>\n",
       "      <td>80.00000</td>\n",
       "      <td>122.00</td>\n",
       "    </tr>\n",
       "    <tr>\n",
       "      <th>SkinThickness</th>\n",
       "      <td>768.0</td>\n",
       "      <td>20.536458</td>\n",
       "      <td>15.952218</td>\n",
       "      <td>0.000</td>\n",
       "      <td>0.00000</td>\n",
       "      <td>23.0000</td>\n",
       "      <td>32.00000</td>\n",
       "      <td>99.00</td>\n",
       "    </tr>\n",
       "    <tr>\n",
       "      <th>Insulin</th>\n",
       "      <td>768.0</td>\n",
       "      <td>79.799479</td>\n",
       "      <td>115.244002</td>\n",
       "      <td>0.000</td>\n",
       "      <td>0.00000</td>\n",
       "      <td>30.5000</td>\n",
       "      <td>127.25000</td>\n",
       "      <td>846.00</td>\n",
       "    </tr>\n",
       "    <tr>\n",
       "      <th>BMI</th>\n",
       "      <td>768.0</td>\n",
       "      <td>31.992578</td>\n",
       "      <td>7.884160</td>\n",
       "      <td>0.000</td>\n",
       "      <td>27.30000</td>\n",
       "      <td>32.0000</td>\n",
       "      <td>36.60000</td>\n",
       "      <td>67.10</td>\n",
       "    </tr>\n",
       "    <tr>\n",
       "      <th>DiabetesPedigreeFunction</th>\n",
       "      <td>768.0</td>\n",
       "      <td>0.471876</td>\n",
       "      <td>0.331329</td>\n",
       "      <td>0.078</td>\n",
       "      <td>0.24375</td>\n",
       "      <td>0.3725</td>\n",
       "      <td>0.62625</td>\n",
       "      <td>2.42</td>\n",
       "    </tr>\n",
       "    <tr>\n",
       "      <th>Age</th>\n",
       "      <td>768.0</td>\n",
       "      <td>33.240885</td>\n",
       "      <td>11.760232</td>\n",
       "      <td>21.000</td>\n",
       "      <td>24.00000</td>\n",
       "      <td>29.0000</td>\n",
       "      <td>41.00000</td>\n",
       "      <td>81.00</td>\n",
       "    </tr>\n",
       "    <tr>\n",
       "      <th>Outcome</th>\n",
       "      <td>768.0</td>\n",
       "      <td>0.348958</td>\n",
       "      <td>0.476951</td>\n",
       "      <td>0.000</td>\n",
       "      <td>0.00000</td>\n",
       "      <td>0.0000</td>\n",
       "      <td>1.00000</td>\n",
       "      <td>1.00</td>\n",
       "    </tr>\n",
       "  </tbody>\n",
       "</table>\n",
       "</div>"
      ],
      "text/plain": [
       "                          count        mean         std     min       25%  \\\n",
       "Pregnancies               768.0    3.845052    3.369578   0.000   1.00000   \n",
       "Glucose                   768.0  120.894531   31.972618   0.000  99.00000   \n",
       "BloodPressure             768.0   69.105469   19.355807   0.000  62.00000   \n",
       "SkinThickness             768.0   20.536458   15.952218   0.000   0.00000   \n",
       "Insulin                   768.0   79.799479  115.244002   0.000   0.00000   \n",
       "BMI                       768.0   31.992578    7.884160   0.000  27.30000   \n",
       "DiabetesPedigreeFunction  768.0    0.471876    0.331329   0.078   0.24375   \n",
       "Age                       768.0   33.240885   11.760232  21.000  24.00000   \n",
       "Outcome                   768.0    0.348958    0.476951   0.000   0.00000   \n",
       "\n",
       "                               50%        75%     max  \n",
       "Pregnancies                 3.0000    6.00000   17.00  \n",
       "Glucose                   117.0000  140.25000  199.00  \n",
       "BloodPressure              72.0000   80.00000  122.00  \n",
       "SkinThickness              23.0000   32.00000   99.00  \n",
       "Insulin                    30.5000  127.25000  846.00  \n",
       "BMI                        32.0000   36.60000   67.10  \n",
       "DiabetesPedigreeFunction    0.3725    0.62625    2.42  \n",
       "Age                        29.0000   41.00000   81.00  \n",
       "Outcome                     0.0000    1.00000    1.00  "
      ]
     },
     "execution_count": 8,
     "metadata": {},
     "output_type": "execute_result"
    }
   ],
   "source": [
    "## print describtion  \n",
    "diabetes.describe().T"
   ]
  },
  {
   "cell_type": "markdown",
   "id": "ada8e0d4",
   "metadata": {},
   "source": [
    "\"outcome\" Is the feature that I will expect, 0 means no diabetes, 1 means presence"
   ]
  },
  {
   "cell_type": "code",
   "execution_count": 9,
   "id": "097b2357",
   "metadata": {
    "execution": {
     "iopub.execute_input": "2023-05-16T21:36:36.205937Z",
     "iopub.status.busy": "2023-05-16T21:36:36.204878Z",
     "iopub.status.idle": "2023-05-16T21:36:36.214946Z",
     "shell.execute_reply": "2023-05-16T21:36:36.213792Z",
     "shell.execute_reply.started": "2023-05-16T21:36:36.205890Z"
    },
    "scrolled": true
   },
   "outputs": [
    {
     "name": "stdout",
     "output_type": "stream",
     "text": [
      "Outcome\n",
      "0    500\n",
      "1    268\n",
      "dtype: int64\n"
     ]
    }
   ],
   "source": [
    "print(diabetes.groupby('Outcome').size())"
   ]
  },
  {
   "cell_type": "markdown",
   "id": "67dd01b4",
   "metadata": {},
   "source": [
    "500 is rated as 0 and 268 as 1:"
   ]
  },
  {
   "cell_type": "code",
   "execution_count": null,
   "id": "14d2293a",
   "metadata": {},
   "outputs": [],
   "source": []
  },
  {
   "cell_type": "code",
   "execution_count": 10,
   "id": "baaaaa34",
   "metadata": {
    "execution": {
     "iopub.execute_input": "2023-05-16T21:36:36.216964Z",
     "iopub.status.busy": "2023-05-16T21:36:36.216592Z",
     "iopub.status.idle": "2023-05-16T21:36:36.231199Z",
     "shell.execute_reply": "2023-05-16T21:36:36.229657Z",
     "shell.execute_reply.started": "2023-05-16T21:36:36.216924Z"
    }
   },
   "outputs": [],
   "source": [
    "# create datarame in Outcome =0 and Outcome=1\n",
    "diabetes_0=diabetes[diabetes['Outcome']==0]\n",
    "diabetes_1=diabetes[diabetes['Outcome']==1]"
   ]
  },
  {
   "cell_type": "code",
   "execution_count": null,
   "id": "f4ad2134",
   "metadata": {},
   "outputs": [],
   "source": []
  },
  {
   "cell_type": "code",
   "execution_count": 11,
   "id": "900ecec8",
   "metadata": {
    "execution": {
     "iopub.execute_input": "2023-05-16T21:36:36.237257Z",
     "iopub.status.busy": "2023-05-16T21:36:36.236379Z",
     "iopub.status.idle": "2023-05-16T21:36:36.470939Z",
     "shell.execute_reply": "2023-05-16T21:36:36.469783Z",
     "shell.execute_reply.started": "2023-05-16T21:36:36.237209Z"
    },
    "scrolled": true
   },
   "outputs": [
    {
     "data": {
      "text/plain": [
       "<Axes: xlabel='Outcome', ylabel='count'>"
      ]
     },
     "execution_count": 11,
     "metadata": {},
     "output_type": "execute_result"
    },
    {
     "data": {
      "image/png": "[encoded data removed]",
      "text/plain": [
       "<Figure size 640x480 with 1 Axes>"
      ]
     },
     "metadata": {},
     "output_type": "display_data"
    }
   ],
   "source": [
    "## The number of views in each categorical basket using bars.\n",
    "sns.countplot(data= diabetes , x='Outcome',label=\"Count\")\n"
   ]
  },
  {
   "cell_type": "code",
   "execution_count": null,
   "id": "3125646b",
   "metadata": {},
   "outputs": [],
   "source": []
  },
  {
   "cell_type": "code",
   "execution_count": null,
   "id": "58d9e751",
   "metadata": {},
   "outputs": [],
   "source": []
  },
  {
   "cell_type": "markdown",
   "id": "9012a0f5",
   "metadata": {},
   "source": [
    "#### Age"
   ]
  },
  {
   "cell_type": "code",
   "execution_count": 12,
   "id": "bf56cb7c",
   "metadata": {
    "execution": {
     "iopub.execute_input": "2023-05-16T21:36:36.473109Z",
     "iopub.status.busy": "2023-05-16T21:36:36.472764Z",
     "iopub.status.idle": "2023-05-16T21:36:36.717800Z",
     "shell.execute_reply": "2023-05-16T21:36:36.716631Z",
     "shell.execute_reply.started": "2023-05-16T21:36:36.473079Z"
    }
   },
   "outputs": [
    {
     "data": {
      "image/png": "[encoded data removed]",
      "text/plain": [
       "<Figure size 640x480 with 1 Axes>"
      ]
     },
     "metadata": {},
     "output_type": "display_data"
    }
   ],
   "source": [
    "# histogram of the \"Age\" variable in the \"Outcome=0\" dataset \n",
    "plt.hist(diabetes_0[\"Age\"] )\n",
    "plt.xlabel(\"Age\")\n",
    "plt.ylabel(\"Count\")\n",
    "plt.show()"
   ]
  },
  {
   "cell_type": "code",
   "execution_count": 13,
   "id": "e4d5ca79",
   "metadata": {
    "execution": {
     "iopub.execute_input": "2023-05-16T21:36:36.720119Z",
     "iopub.status.busy": "2023-05-16T21:36:36.719623Z",
     "iopub.status.idle": "2023-05-16T21:36:36.945261Z",
     "shell.execute_reply": "2023-05-16T21:36:36.944165Z",
     "shell.execute_reply.started": "2023-05-16T21:36:36.720064Z"
    }
   },
   "outputs": [
    {
     "data": {
      "image/png": "[encoded data removed]",
      "text/plain": [
       "<Figure size 640x480 with 1 Axes>"
      ]
     },
     "metadata": {},
     "output_type": "display_data"
    }
   ],
   "source": [
    "# histogram of the \"Age\" variable in the \"Outcome=1\" dataset \n",
    "plt.hist(diabetes_1[\"Age\"])\n",
    "plt.xlabel(\"Age\")\n",
    "plt.ylabel(\"Count\")\n",
    "plt.show()"
   ]
  },
  {
   "cell_type": "code",
   "execution_count": 14,
   "id": "d172eb30",
   "metadata": {
    "execution": {
     "iopub.execute_input": "2023-05-16T21:36:36.951080Z",
     "iopub.status.busy": "2023-05-16T21:36:36.950543Z",
     "iopub.status.idle": "2023-05-16T21:36:37.279908Z",
     "shell.execute_reply": "2023-05-16T21:36:37.278716Z",
     "shell.execute_reply.started": "2023-05-16T21:36:36.951048Z"
    },
    "scrolled": true
   },
   "outputs": [
    {
     "data": {
      "image/png": "[encoded data removed]",
      "text/plain": [
       "<Figure size 640x480 with 1 Axes>"
      ]
     },
     "metadata": {},
     "output_type": "display_data"
    }
   ],
   "source": [
    "# histogram of the \"Age\"  \n",
    "sns.histplot(data=diabetes, x='Age'  , hue='Outcome')\n",
    "plt.xlabel(\"Age\")\n",
    "plt.ylabel(\"Count\")\n",
    "plt.axhline(np.mean(diabetes['Age']), color='red', linestyle='solid')\n",
    "plt.show()"
   ]
  },
  {
   "cell_type": "code",
   "execution_count": 15,
   "id": "102ea46c",
   "metadata": {
    "execution": {
     "iopub.execute_input": "2023-05-16T21:36:37.281905Z",
     "iopub.status.busy": "2023-05-16T21:36:37.281480Z",
     "iopub.status.idle": "2023-05-16T21:36:37.479331Z",
     "shell.execute_reply": "2023-05-16T21:36:37.478221Z",
     "shell.execute_reply.started": "2023-05-16T21:36:37.281862Z"
    }
   },
   "outputs": [
    {
     "data": {
      "text/plain": [
       "{'bodies': [<matplotlib.collections.PolyCollection at 0x27c321018b0>],\n",
       " 'cmaxes': <matplotlib.collections.LineCollection at 0x27c32101820>,\n",
       " 'cmins': <matplotlib.collections.LineCollection at 0x27c32101eb0>,\n",
       " 'cbars': <matplotlib.collections.LineCollection at 0x27c3211f250>}"
      ]
     },
     "execution_count": 15,
     "metadata": {},
     "output_type": "execute_result"
    },
    {
     "data": {
      "image/png": "[encoded data removed]",
      "text/plain": [
       "<Figure size 640x480 with 1 Axes>"
      ]
     },
     "metadata": {},
     "output_type": "display_data"
    }
   ],
   "source": [
    "#plot Age\n",
    "plt.violinplot(diabetes['Age'])"
   ]
  },
  {
   "cell_type": "code",
   "execution_count": 16,
   "id": "38804b3c",
   "metadata": {
    "execution": {
     "iopub.execute_input": "2023-05-16T21:36:37.481848Z",
     "iopub.status.busy": "2023-05-16T21:36:37.481080Z",
     "iopub.status.idle": "2023-05-16T21:36:37.632686Z",
     "shell.execute_reply": "2023-05-16T21:36:37.631496Z",
     "shell.execute_reply.started": "2023-05-16T21:36:37.481804Z"
    },
    "scrolled": true
   },
   "outputs": [
    {
     "data": {
      "text/plain": [
       "<Axes: >"
      ]
     },
     "execution_count": 16,
     "metadata": {},
     "output_type": "execute_result"
    },
    {
     "data": {
      "image/png": "[encoded data removed]",
      "text/plain": [
       "<Figure size 640x480 with 1 Axes>"
      ]
     },
     "metadata": {},
     "output_type": "display_data"
    }
   ],
   "source": [
    "#boxplot Age\n",
    "sns.boxplot(diabetes['Age'])"
   ]
  },
  {
   "cell_type": "code",
   "execution_count": null,
   "id": "385146ab",
   "metadata": {},
   "outputs": [],
   "source": []
  },
  {
   "cell_type": "code",
   "execution_count": 17,
   "id": "cf50d276",
   "metadata": {
    "execution": {
     "iopub.execute_input": "2023-05-16T21:36:37.635001Z",
     "iopub.status.busy": "2023-05-16T21:36:37.634273Z",
     "iopub.status.idle": "2023-05-16T21:36:37.643851Z",
     "shell.execute_reply": "2023-05-16T21:36:37.642978Z",
     "shell.execute_reply.started": "2023-05-16T21:36:37.634956Z"
    },
    "scrolled": true
   },
   "outputs": [
    {
     "data": {
      "text/plain": [
       "31.19"
      ]
     },
     "execution_count": 17,
     "metadata": {},
     "output_type": "execute_result"
    }
   ],
   "source": [
    "diabetes_0['Age'].mean()"
   ]
  },
  {
   "cell_type": "code",
   "execution_count": 18,
   "id": "3ce10bfb",
   "metadata": {
    "execution": {
     "iopub.execute_input": "2023-05-16T21:36:37.647124Z",
     "iopub.status.busy": "2023-05-16T21:36:37.645549Z",
     "iopub.status.idle": "2023-05-16T21:36:37.661605Z",
     "shell.execute_reply": "2023-05-16T21:36:37.660155Z",
     "shell.execute_reply.started": "2023-05-16T21:36:37.647091Z"
    }
   },
   "outputs": [
    {
     "data": {
      "text/plain": [
       "37.06716417910448"
      ]
     },
     "execution_count": 18,
     "metadata": {},
     "output_type": "execute_result"
    }
   ],
   "source": [
    "diabetes_1['Age'].mean()"
   ]
  },
  {
   "cell_type": "markdown",
   "id": "014b6523",
   "metadata": {},
   "source": [
    "###### The incidence of diabetes increases from the age of 38"
   ]
  },
  {
   "cell_type": "code",
   "execution_count": null,
   "id": "b5dea102",
   "metadata": {},
   "outputs": [],
   "source": []
  },
  {
   "cell_type": "markdown",
   "id": "9f93bc32",
   "metadata": {},
   "source": [
    "#### SkinThickness"
   ]
  },
  {
   "cell_type": "code",
   "execution_count": 19,
   "id": "c8f3b560",
   "metadata": {
    "execution": {
     "iopub.execute_input": "2023-05-16T21:36:37.666021Z",
     "iopub.status.busy": "2023-05-16T21:36:37.664100Z",
     "iopub.status.idle": "2023-05-16T21:36:37.953618Z",
     "shell.execute_reply": "2023-05-16T21:36:37.952523Z",
     "shell.execute_reply.started": "2023-05-16T21:36:37.665967Z"
    }
   },
   "outputs": [
    {
     "data": {
      "image/png": "[encoded data removed]",
      "text/plain": [
       "<Figure size 640x480 with 1 Axes>"
      ]
     },
     "metadata": {},
     "output_type": "display_data"
    }
   ],
   "source": [
    "# histogram of the \"SkinThickness\"  \n",
    "\n",
    "sns.histplot(data=diabetes, x='SkinThickness'  , hue='Outcome')\n",
    "plt.xlabel(\"SkinThickness\")\n",
    "plt.ylabel(\"Count\")\n",
    "plt.show()"
   ]
  },
  {
   "cell_type": "code",
   "execution_count": 20,
   "id": "6ae83379",
   "metadata": {
    "execution": {
     "iopub.execute_input": "2023-05-16T21:36:37.955691Z",
     "iopub.status.busy": "2023-05-16T21:36:37.955247Z",
     "iopub.status.idle": "2023-05-16T21:36:38.149756Z",
     "shell.execute_reply": "2023-05-16T21:36:38.148208Z",
     "shell.execute_reply.started": "2023-05-16T21:36:37.955649Z"
    }
   },
   "outputs": [
    {
     "data": {
      "text/plain": [
       "{'bodies': [<matplotlib.collections.PolyCollection at 0x27c322d0640>],\n",
       " 'cmaxes': <matplotlib.collections.LineCollection at 0x27c322d05b0>,\n",
       " 'cmins': <matplotlib.collections.LineCollection at 0x27c322d0c40>,\n",
       " 'cbars': <matplotlib.collections.LineCollection at 0x27c322d0fa0>}"
      ]
     },
     "execution_count": 20,
     "metadata": {},
     "output_type": "execute_result"
    },
    {
     "data": {
      "image/png": "[encoded data removed]",
      "text/plain": [
       "<Figure size 640x480 with 1 Axes>"
      ]
     },
     "metadata": {},
     "output_type": "display_data"
    }
   ],
   "source": [
    "#violinplot SkinThickness\n",
    "plt.violinplot(diabetes['SkinThickness'])"
   ]
  },
  {
   "cell_type": "code",
   "execution_count": 21,
   "id": "e1f6f068",
   "metadata": {
    "execution": {
     "iopub.execute_input": "2023-05-16T21:36:38.151817Z",
     "iopub.status.busy": "2023-05-16T21:36:38.151335Z",
     "iopub.status.idle": "2023-05-16T21:36:38.160050Z",
     "shell.execute_reply": "2023-05-16T21:36:38.158917Z",
     "shell.execute_reply.started": "2023-05-16T21:36:38.151770Z"
    }
   },
   "outputs": [
    {
     "data": {
      "text/plain": [
       "19.664"
      ]
     },
     "execution_count": 21,
     "metadata": {},
     "output_type": "execute_result"
    }
   ],
   "source": [
    "# average healthy people  SkinThickness \n",
    "diabetes_0['SkinThickness'].mean()\n"
   ]
  },
  {
   "cell_type": "code",
   "execution_count": 22,
   "id": "a109730e",
   "metadata": {
    "execution": {
     "iopub.execute_input": "2023-05-16T21:36:38.162780Z",
     "iopub.status.busy": "2023-05-16T21:36:38.161730Z",
     "iopub.status.idle": "2023-05-16T21:36:38.174954Z",
     "shell.execute_reply": "2023-05-16T21:36:38.173727Z",
     "shell.execute_reply.started": "2023-05-16T21:36:38.162727Z"
    },
    "scrolled": true
   },
   "outputs": [
    {
     "data": {
      "text/plain": [
       "60"
      ]
     },
     "execution_count": 22,
     "metadata": {},
     "output_type": "execute_result"
    }
   ],
   "source": [
    "# max healthy people  SkinThickness \n",
    "diabetes_0['SkinThickness'].max()\n"
   ]
  },
  {
   "cell_type": "code",
   "execution_count": 23,
   "id": "8ce60973",
   "metadata": {
    "execution": {
     "iopub.execute_input": "2023-05-16T21:36:38.176335Z",
     "iopub.status.busy": "2023-05-16T21:36:38.175974Z",
     "iopub.status.idle": "2023-05-16T21:36:38.189945Z",
     "shell.execute_reply": "2023-05-16T21:36:38.188574Z",
     "shell.execute_reply.started": "2023-05-16T21:36:38.176303Z"
    },
    "scrolled": true
   },
   "outputs": [
    {
     "data": {
      "text/plain": [
       "22.16417910447761"
      ]
     },
     "execution_count": 23,
     "metadata": {},
     "output_type": "execute_result"
    }
   ],
   "source": [
    "# average diabetics  SkinThickness \n",
    "\n",
    "diabetes_1['SkinThickness'].mean()\n"
   ]
  },
  {
   "cell_type": "code",
   "execution_count": 24,
   "id": "313c2d7d",
   "metadata": {
    "execution": {
     "iopub.execute_input": "2023-05-16T21:36:38.192179Z",
     "iopub.status.busy": "2023-05-16T21:36:38.191797Z",
     "iopub.status.idle": "2023-05-16T21:36:38.204260Z",
     "shell.execute_reply": "2023-05-16T21:36:38.203172Z",
     "shell.execute_reply.started": "2023-05-16T21:36:38.192149Z"
    },
    "scrolled": true
   },
   "outputs": [
    {
     "data": {
      "text/plain": [
       "99"
      ]
     },
     "execution_count": 24,
     "metadata": {},
     "output_type": "execute_result"
    }
   ],
   "source": [
    "# max diabetics  SkinThickness \n",
    "diabetes_1['SkinThickness'].max()\n"
   ]
  },
  {
   "cell_type": "markdown",
   "id": "148d689f",
   "metadata": {},
   "source": [
    "###### The thickness of the skin of diabetics is higher than that of healthy people"
   ]
  },
  {
   "cell_type": "code",
   "execution_count": null,
   "id": "ceecf2fa",
   "metadata": {},
   "outputs": [],
   "source": []
  },
  {
   "cell_type": "markdown",
   "id": "8b308c66",
   "metadata": {},
   "source": [
    "#### BMI"
   ]
  },
  {
   "cell_type": "code",
   "execution_count": null,
   "id": "08a5dd24",
   "metadata": {
    "execution": {
     "iopub.execute_input": "2023-05-16T21:36:38.206490Z",
     "iopub.status.busy": "2023-05-16T21:36:38.205960Z",
     "iopub.status.idle": "2023-05-16T21:36:38.579981Z",
     "shell.execute_reply": "2023-05-16T21:36:38.578809Z",
     "shell.execute_reply.started": "2023-05-16T21:36:38.206402Z"
    },
    "scrolled": true
   },
   "outputs": [],
   "source": [
    "## histogram of the \"BMi\"  \n",
    "\n",
    "sns.histplot(data=diabetes, x='BMI'  , hue='Outcome')\n",
    "plt.xlabel(\"BMI\")\n",
    "plt.ylabel(\"Count\")\n",
    "plt.show()"
   ]
  },
  {
   "cell_type": "code",
   "execution_count": null,
   "id": "bc44b87e",
   "metadata": {},
   "outputs": [],
   "source": []
  },
  {
   "cell_type": "code",
   "execution_count": null,
   "id": "c1b93de1",
   "metadata": {
    "execution": {
     "iopub.execute_input": "2023-05-16T21:36:38.581719Z",
     "iopub.status.busy": "2023-05-16T21:36:38.581355Z",
     "iopub.status.idle": "2023-05-16T21:36:38.590913Z",
     "shell.execute_reply": "2023-05-16T21:36:38.589537Z",
     "shell.execute_reply.started": "2023-05-16T21:36:38.581686Z"
    }
   },
   "outputs": [],
   "source": [
    "# average healthy people  BMI \n",
    "\n",
    "diabetes_0['BMI'].mean()\n"
   ]
  },
  {
   "cell_type": "code",
   "execution_count": null,
   "id": "6650a917",
   "metadata": {
    "execution": {
     "iopub.execute_input": "2023-05-16T21:36:38.593371Z",
     "iopub.status.busy": "2023-05-16T21:36:38.592892Z",
     "iopub.status.idle": "2023-05-16T21:36:38.604654Z",
     "shell.execute_reply": "2023-05-16T21:36:38.603094Z",
     "shell.execute_reply.started": "2023-05-16T21:36:38.593326Z"
    }
   },
   "outputs": [],
   "source": [
    "# max healthy people  BMI \n",
    "\n",
    "diabetes_0['BMI'].max()\n"
   ]
  },
  {
   "cell_type": "code",
   "execution_count": null,
   "id": "bba20e60",
   "metadata": {
    "execution": {
     "iopub.execute_input": "2023-05-16T21:36:38.607147Z",
     "iopub.status.busy": "2023-05-16T21:36:38.606755Z",
     "iopub.status.idle": "2023-05-16T21:36:38.618875Z",
     "shell.execute_reply": "2023-05-16T21:36:38.617341Z",
     "shell.execute_reply.started": "2023-05-16T21:36:38.607079Z"
    }
   },
   "outputs": [],
   "source": [
    "# average healthy people  BMI \n",
    "\n",
    "diabetes_1['BMI'].mean()\n"
   ]
  },
  {
   "cell_type": "code",
   "execution_count": 38,
   "id": "0fa47fd0",
   "metadata": {
    "execution": {
     "iopub.execute_input": "2023-05-16T21:36:38.620196Z",
     "iopub.status.busy": "2023-05-16T21:36:38.619857Z",
     "iopub.status.idle": "2023-05-16T21:36:38.630880Z",
     "shell.execute_reply": "2023-05-16T21:36:38.629901Z",
     "shell.execute_reply.started": "2023-05-16T21:36:38.620167Z"
    }
   },
   "outputs": [
    {
     "data": {
      "text/plain": [
       "67.1"
      ]
     },
     "execution_count": 38,
     "metadata": {},
     "output_type": "execute_result"
    }
   ],
   "source": [
    "# max healthy people  BMI \n",
    "\n",
    "diabetes_1['BMI'].max()\n"
   ]
  },
  {
   "cell_type": "markdown",
   "id": "7cf949f7",
   "metadata": {},
   "source": [
    "###### BMI is more common in affected patients than in healthy people."
   ]
  },
  {
   "cell_type": "code",
   "execution_count": null,
   "id": "790c0cbe",
   "metadata": {},
   "outputs": [],
   "source": []
  },
  {
   "cell_type": "code",
   "execution_count": 39,
   "id": "eb7b7065",
   "metadata": {
    "execution": {
     "iopub.execute_input": "2023-05-16T21:36:38.632639Z",
     "iopub.status.busy": "2023-05-16T21:36:38.632268Z",
     "iopub.status.idle": "2023-05-16T21:36:38.966544Z",
     "shell.execute_reply": "2023-05-16T21:36:38.965252Z",
     "shell.execute_reply.started": "2023-05-16T21:36:38.632606Z"
    }
   },
   "outputs": [
    {
     "data": {
      "image/png": "[encoded data removed]",
      "text/plain": [
       "<Figure size 640x480 with 1 Axes>"
      ]
     },
     "metadata": {},
     "output_type": "display_data"
    }
   ],
   "source": [
    "## histogram of the \"Pregnancies\"  \n",
    "\n",
    "sns.histplot(data=diabetes, x='Pregnancies', hue='Outcome')\n",
    "plt.xlabel(\"Pregnancies\")\n",
    "plt.ylabel(\"Count\")\n",
    "plt.xticks(range(0,15,2))\n",
    "plt.show()"
   ]
  },
  {
   "cell_type": "code",
   "execution_count": 40,
   "id": "6641ea3b",
   "metadata": {
    "execution": {
     "iopub.execute_input": "2023-05-16T21:36:38.969320Z",
     "iopub.status.busy": "2023-05-16T21:36:38.968192Z",
     "iopub.status.idle": "2023-05-16T21:36:39.364738Z",
     "shell.execute_reply": "2023-05-16T21:36:39.363628Z",
     "shell.execute_reply.started": "2023-05-16T21:36:38.969282Z"
    }
   },
   "outputs": [
    {
     "data": {
      "text/plain": [
       "<AxesSubplot: xlabel='Pregnancies', ylabel='count'>"
      ]
     },
     "execution_count": 40,
     "metadata": {},
     "output_type": "execute_result"
    },
    {
     "data": {
      "image/png": "[encoded data removed]",
      "text/plain": [
       "<Figure size 640x480 with 1 Axes>"
      ]
     },
     "metadata": {},
     "output_type": "display_data"
    }
   ],
   "source": [
    "sns.countplot(data= diabetes , x='Pregnancies',hue=\"Outcome\")"
   ]
  },
  {
   "cell_type": "code",
   "execution_count": null,
   "id": "99faff95",
   "metadata": {},
   "outputs": [],
   "source": []
  },
  {
   "cell_type": "code",
   "execution_count": 41,
   "id": "7d986611",
   "metadata": {
    "execution": {
     "iopub.execute_input": "2023-05-16T21:36:39.367185Z",
     "iopub.status.busy": "2023-05-16T21:36:39.366280Z",
     "iopub.status.idle": "2023-05-16T21:36:39.374637Z",
     "shell.execute_reply": "2023-05-16T21:36:39.373350Z",
     "shell.execute_reply.started": "2023-05-16T21:36:39.367125Z"
    }
   },
   "outputs": [
    {
     "data": {
      "text/plain": [
       "3.298"
      ]
     },
     "execution_count": 41,
     "metadata": {},
     "output_type": "execute_result"
    }
   ],
   "source": [
    "# average healthy people  Pregnancies \n",
    "\n",
    "diabetes_0['Pregnancies'].mean()\n"
   ]
  },
  {
   "cell_type": "code",
   "execution_count": 42,
   "id": "9bf32144",
   "metadata": {
    "execution": {
     "iopub.execute_input": "2023-05-16T21:36:39.377019Z",
     "iopub.status.busy": "2023-05-16T21:36:39.376556Z",
     "iopub.status.idle": "2023-05-16T21:36:39.387484Z",
     "shell.execute_reply": "2023-05-16T21:36:39.386364Z",
     "shell.execute_reply.started": "2023-05-16T21:36:39.376965Z"
    }
   },
   "outputs": [
    {
     "data": {
      "text/plain": [
       "13"
      ]
     },
     "execution_count": 42,
     "metadata": {},
     "output_type": "execute_result"
    }
   ],
   "source": [
    "# max healthy people  Pregnancies \n",
    "\n",
    "diabetes_0['Pregnancies'].max()\n"
   ]
  },
  {
   "cell_type": "code",
   "execution_count": 43,
   "id": "e8ca46f7",
   "metadata": {
    "execution": {
     "iopub.execute_input": "2023-05-16T21:36:39.389427Z",
     "iopub.status.busy": "2023-05-16T21:36:39.388711Z",
     "iopub.status.idle": "2023-05-16T21:36:39.401065Z",
     "shell.execute_reply": "2023-05-16T21:36:39.399946Z",
     "shell.execute_reply.started": "2023-05-16T21:36:39.389390Z"
    }
   },
   "outputs": [
    {
     "data": {
      "text/plain": [
       "4.865671641791045"
      ]
     },
     "execution_count": 43,
     "metadata": {},
     "output_type": "execute_result"
    }
   ],
   "source": [
    "# average healthy people  Pregnancies \n",
    "\n",
    "diabetes_1['Pregnancies'].mean()\n"
   ]
  },
  {
   "cell_type": "code",
   "execution_count": 44,
   "id": "5aefe131",
   "metadata": {
    "execution": {
     "iopub.execute_input": "2023-05-16T21:36:39.402669Z",
     "iopub.status.busy": "2023-05-16T21:36:39.402357Z",
     "iopub.status.idle": "2023-05-16T21:36:39.413307Z",
     "shell.execute_reply": "2023-05-16T21:36:39.412431Z",
     "shell.execute_reply.started": "2023-05-16T21:36:39.402642Z"
    }
   },
   "outputs": [
    {
     "data": {
      "text/plain": [
       "17"
      ]
     },
     "execution_count": 44,
     "metadata": {},
     "output_type": "execute_result"
    }
   ],
   "source": [
    "# max healthy people  Pregnancies \n",
    "\n",
    "diabetes_1['Pregnancies'].max()\n"
   ]
  },
  {
   "cell_type": "markdown",
   "id": "16861ff3",
   "metadata": {},
   "source": [
    "###### The higher the number of pregnancies, the higher the incidence of diabetes"
   ]
  },
  {
   "cell_type": "code",
   "execution_count": null,
   "id": "e74c7ce2",
   "metadata": {},
   "outputs": [],
   "source": []
  },
  {
   "cell_type": "markdown",
   "id": "1b1cc805",
   "metadata": {},
   "source": [
    "#### BMI"
   ]
  },
  {
   "cell_type": "code",
   "execution_count": 45,
   "id": "08b85fb4",
   "metadata": {
    "execution": {
     "iopub.execute_input": "2023-05-16T21:36:39.414975Z",
     "iopub.status.busy": "2023-05-16T21:36:39.414652Z",
     "iopub.status.idle": "2023-05-16T21:36:39.784480Z",
     "shell.execute_reply": "2023-05-16T21:36:39.783218Z",
     "shell.execute_reply.started": "2023-05-16T21:36:39.414947Z"
    }
   },
   "outputs": [
    {
     "data": {
      "image/png": "[encoded data removed]",
      "text/plain": [
       "<Figure size 640x480 with 1 Axes>"
      ]
     },
     "metadata": {},
     "output_type": "display_data"
    }
   ],
   "source": [
    "## histogram of the \"BMI\"  \n",
    "\n",
    "sns.histplot(data=diabetes, x='BMI', hue='Outcome')\n",
    "plt.xlabel(\"BMI\")\n",
    "plt.ylabel(\"Count\")\n",
    "plt.show()"
   ]
  },
  {
   "cell_type": "code",
   "execution_count": 46,
   "id": "68b6ea07",
   "metadata": {
    "execution": {
     "iopub.execute_input": "2023-05-16T21:36:39.786890Z",
     "iopub.status.busy": "2023-05-16T21:36:39.786449Z",
     "iopub.status.idle": "2023-05-16T21:36:40.257738Z",
     "shell.execute_reply": "2023-05-16T21:36:40.256563Z",
     "shell.execute_reply.started": "2023-05-16T21:36:39.786848Z"
    },
    "scrolled": true
   },
   "outputs": [
    {
     "data": {
      "image/png": "[encoded data removed]",
      "text/plain": [
       "<Figure size 640x480 with 1 Axes>"
      ]
     },
     "metadata": {},
     "output_type": "display_data"
    }
   ],
   "source": [
    "#scateer plot relationship between Age with BMI\n",
    "plt.scatter (diabetes[\"BMI\"] , diabetes[\"Age\"] )\n",
    "plt.title (\"The relationship between Age with BMI \")\n",
    "plt.xlabel ('BMI' )\n",
    "plt.ylabel ('Age')\n",
    "plt.show ()"
   ]
  },
  {
   "cell_type": "code",
   "execution_count": null,
   "id": "035f8275",
   "metadata": {},
   "outputs": [],
   "source": []
  },
  {
   "cell_type": "code",
   "execution_count": null,
   "id": "5deb6e33",
   "metadata": {},
   "outputs": [],
   "source": []
  },
  {
   "cell_type": "code",
   "execution_count": 47,
   "id": "13d3947c",
   "metadata": {
    "execution": {
     "iopub.execute_input": "2023-05-16T21:36:40.260272Z",
     "iopub.status.busy": "2023-05-16T21:36:40.259779Z",
     "iopub.status.idle": "2023-05-16T21:36:40.268270Z",
     "shell.execute_reply": "2023-05-16T21:36:40.267041Z",
     "shell.execute_reply.started": "2023-05-16T21:36:40.260226Z"
    }
   },
   "outputs": [
    {
     "data": {
      "text/plain": [
       "30.3042"
      ]
     },
     "execution_count": 47,
     "metadata": {},
     "output_type": "execute_result"
    }
   ],
   "source": [
    "# average healthy people  BMI \n",
    "\n",
    "diabetes_0['BMI'].mean()\n"
   ]
  },
  {
   "cell_type": "code",
   "execution_count": 48,
   "id": "a0a1c422",
   "metadata": {
    "execution": {
     "iopub.execute_input": "2023-05-16T21:36:40.271181Z",
     "iopub.status.busy": "2023-05-16T21:36:40.270166Z",
     "iopub.status.idle": "2023-05-16T21:36:40.284479Z",
     "shell.execute_reply": "2023-05-16T21:36:40.283271Z",
     "shell.execute_reply.started": "2023-05-16T21:36:40.271145Z"
    }
   },
   "outputs": [
    {
     "data": {
      "text/plain": [
       "57.3"
      ]
     },
     "execution_count": 48,
     "metadata": {},
     "output_type": "execute_result"
    }
   ],
   "source": [
    "# max healthy people  BMI \n",
    "\n",
    "diabetes_0['BMI'].max()\n"
   ]
  },
  {
   "cell_type": "code",
   "execution_count": 49,
   "id": "f7601d21",
   "metadata": {
    "execution": {
     "iopub.execute_input": "2023-05-16T21:36:40.286380Z",
     "iopub.status.busy": "2023-05-16T21:36:40.286024Z",
     "iopub.status.idle": "2023-05-16T21:36:40.297165Z",
     "shell.execute_reply": "2023-05-16T21:36:40.295933Z",
     "shell.execute_reply.started": "2023-05-16T21:36:40.286349Z"
    }
   },
   "outputs": [
    {
     "data": {
      "text/plain": [
       "35.14253731343284"
      ]
     },
     "execution_count": 49,
     "metadata": {},
     "output_type": "execute_result"
    }
   ],
   "source": [
    "# average healthy people  BMI \n",
    "\n",
    "diabetes_1['BMI'].mean()\n"
   ]
  },
  {
   "cell_type": "code",
   "execution_count": 50,
   "id": "eb191efe",
   "metadata": {
    "execution": {
     "iopub.execute_input": "2023-05-16T21:36:40.308977Z",
     "iopub.status.busy": "2023-05-16T21:36:40.308067Z",
     "iopub.status.idle": "2023-05-16T21:36:40.316479Z",
     "shell.execute_reply": "2023-05-16T21:36:40.315331Z",
     "shell.execute_reply.started": "2023-05-16T21:36:40.308938Z"
    }
   },
   "outputs": [
    {
     "data": {
      "text/plain": [
       "67.1"
      ]
     },
     "execution_count": 50,
     "metadata": {},
     "output_type": "execute_result"
    }
   ],
   "source": [
    "# max healthy people  BMI \n",
    "\n",
    "diabetes_1['BMI'].max()\n"
   ]
  },
  {
   "cell_type": "code",
   "execution_count": null,
   "id": "04abe090",
   "metadata": {},
   "outputs": [],
   "source": []
  },
  {
   "cell_type": "code",
   "execution_count": null,
   "id": "2a3aff05",
   "metadata": {},
   "outputs": [],
   "source": []
  },
  {
   "cell_type": "code",
   "execution_count": 51,
   "id": "757f8a00",
   "metadata": {
    "execution": {
     "iopub.execute_input": "2023-05-16T21:36:40.318951Z",
     "iopub.status.busy": "2023-05-16T21:36:40.318109Z",
     "iopub.status.idle": "2023-05-16T21:36:40.337703Z",
     "shell.execute_reply": "2023-05-16T21:36:40.336466Z",
     "shell.execute_reply.started": "2023-05-16T21:36:40.318917Z"
    }
   },
   "outputs": [
    {
     "data": {
      "text/plain": [
       "Glucose                     0.466581\n",
       "BMI                         0.292695\n",
       "Age                         0.238356\n",
       "Pregnancies                 0.221898\n",
       "DiabetesPedigreeFunction    0.173844\n",
       "Insulin                     0.130548\n",
       "SkinThickness               0.074752\n",
       "BloodPressure               0.065068\n",
       "Name: Outcome, dtype: float64"
      ]
     },
     "execution_count": 51,
     "metadata": {},
     "output_type": "execute_result"
    }
   ],
   "source": [
    "#to compare  correlation between a target  and other features in absolute \n",
    "correlations = diabetes.corr()['Outcome'].drop('Outcome')\n",
    "sorted_correlations = correlations.abs().sort_values(ascending=False)\n",
    "sorted_correlations"
   ]
  },
  {
   "cell_type": "code",
   "execution_count": 52,
   "id": "10f9d2cc",
   "metadata": {
    "execution": {
     "iopub.execute_input": "2023-05-16T21:36:40.339671Z",
     "iopub.status.busy": "2023-05-16T21:36:40.339226Z",
     "iopub.status.idle": "2023-05-16T21:36:40.601308Z",
     "shell.execute_reply": "2023-05-16T21:36:40.600144Z",
     "shell.execute_reply.started": "2023-05-16T21:36:40.339631Z"
    }
   },
   "outputs": [
    {
     "data": {
      "image/png": "[encoded data removed]",
      "text/plain": [
       "<Figure size 640x480 with 1 Axes>"
      ]
     },
     "metadata": {},
     "output_type": "display_data"
    }
   ],
   "source": [
    "# show bar to compare correlation between a target and other features in absolute \n",
    "# to be organized and easy to compare\n",
    "\n",
    "sns.barplot(x=sorted_correlations.index, y=sorted_correlations)\n",
    "plt.xticks(rotation=90)\n",
    "plt.xlabel('Features')\n",
    "plt.ylabel('Absolute Correlation')\n",
    "plt.show()"
   ]
  },
  {
   "cell_type": "markdown",
   "id": "fc6b0b9e",
   "metadata": {},
   "source": [
    "###### We will train the model on the most important Features"
   ]
  },
  {
   "cell_type": "code",
   "execution_count": null,
   "id": "71dbecba",
   "metadata": {},
   "outputs": [],
   "source": []
  },
  {
   "cell_type": "code",
   "execution_count": 53,
   "id": "f1a29b15",
   "metadata": {
    "execution": {
     "iopub.execute_input": "2023-05-16T21:36:40.602977Z",
     "iopub.status.busy": "2023-05-16T21:36:40.602659Z",
     "iopub.status.idle": "2023-05-16T21:36:40.611520Z",
     "shell.execute_reply": "2023-05-16T21:36:40.610372Z",
     "shell.execute_reply.started": "2023-05-16T21:36:40.602949Z"
    }
   },
   "outputs": [
    {
     "data": {
      "text/plain": [
       "Glucose                     0.466581\n",
       "BMI                         0.292695\n",
       "Age                         0.238356\n",
       "Pregnancies                 0.221898\n",
       "DiabetesPedigreeFunction    0.173844\n",
       "Insulin                     0.130548\n",
       "Name: Outcome, dtype: float64"
      ]
     },
     "execution_count": 53,
     "metadata": {},
     "output_type": "execute_result"
    }
   ],
   "source": [
    "diabetes_corr = sorted_correlations[:6]\n",
    "diabetes_corr"
   ]
  },
  {
   "cell_type": "code",
   "execution_count": 54,
   "id": "25e75363",
   "metadata": {
    "execution": {
     "iopub.execute_input": "2023-05-16T21:36:40.613933Z",
     "iopub.status.busy": "2023-05-16T21:36:40.613504Z",
     "iopub.status.idle": "2023-05-16T21:36:40.638809Z",
     "shell.execute_reply": "2023-05-16T21:36:40.637406Z",
     "shell.execute_reply.started": "2023-05-16T21:36:40.613892Z"
    }
   },
   "outputs": [
    {
     "data": {
      "text/html": [
       "<div>\n",
       "<style scoped>\n",
       "    .dataframe tbody tr th:only-of-type {\n",
       "        vertical-align: middle;\n",
       "    }\n",
       "\n",
       "    .dataframe tbody tr th {\n",
       "        vertical-align: top;\n",
       "    }\n",
       "\n",
       "    .dataframe thead th {\n",
       "        text-align: right;\n",
       "    }\n",
       "</style>\n",
       "<table border=\"1\" class=\"dataframe\">\n",
       "  <thead>\n",
       "    <tr style=\"text-align: right;\">\n",
       "      <th></th>\n",
       "      <th>Glucose</th>\n",
       "      <th>BMI</th>\n",
       "      <th>Age</th>\n",
       "      <th>Pregnancies</th>\n",
       "      <th>DiabetesPedigreeFunction</th>\n",
       "      <th>Outcome</th>\n",
       "    </tr>\n",
       "  </thead>\n",
       "  <tbody>\n",
       "    <tr>\n",
       "      <th>0</th>\n",
       "      <td>148</td>\n",
       "      <td>33.6</td>\n",
       "      <td>50</td>\n",
       "      <td>6</td>\n",
       "      <td>0.627</td>\n",
       "      <td>1</td>\n",
       "    </tr>\n",
       "    <tr>\n",
       "      <th>1</th>\n",
       "      <td>85</td>\n",
       "      <td>26.6</td>\n",
       "      <td>31</td>\n",
       "      <td>1</td>\n",
       "      <td>0.351</td>\n",
       "      <td>0</td>\n",
       "    </tr>\n",
       "    <tr>\n",
       "      <th>2</th>\n",
       "      <td>183</td>\n",
       "      <td>23.3</td>\n",
       "      <td>32</td>\n",
       "      <td>8</td>\n",
       "      <td>0.672</td>\n",
       "      <td>1</td>\n",
       "    </tr>\n",
       "    <tr>\n",
       "      <th>3</th>\n",
       "      <td>89</td>\n",
       "      <td>28.1</td>\n",
       "      <td>21</td>\n",
       "      <td>1</td>\n",
       "      <td>0.167</td>\n",
       "      <td>0</td>\n",
       "    </tr>\n",
       "    <tr>\n",
       "      <th>4</th>\n",
       "      <td>137</td>\n",
       "      <td>43.1</td>\n",
       "      <td>33</td>\n",
       "      <td>0</td>\n",
       "      <td>2.288</td>\n",
       "      <td>1</td>\n",
       "    </tr>\n",
       "    <tr>\n",
       "      <th>...</th>\n",
       "      <td>...</td>\n",
       "      <td>...</td>\n",
       "      <td>...</td>\n",
       "      <td>...</td>\n",
       "      <td>...</td>\n",
       "      <td>...</td>\n",
       "    </tr>\n",
       "    <tr>\n",
       "      <th>763</th>\n",
       "      <td>101</td>\n",
       "      <td>32.9</td>\n",
       "      <td>63</td>\n",
       "      <td>10</td>\n",
       "      <td>0.171</td>\n",
       "      <td>0</td>\n",
       "    </tr>\n",
       "    <tr>\n",
       "      <th>764</th>\n",
       "      <td>122</td>\n",
       "      <td>36.8</td>\n",
       "      <td>27</td>\n",
       "      <td>2</td>\n",
       "      <td>0.340</td>\n",
       "      <td>0</td>\n",
       "    </tr>\n",
       "    <tr>\n",
       "      <th>765</th>\n",
       "      <td>121</td>\n",
       "      <td>26.2</td>\n",
       "      <td>30</td>\n",
       "      <td>5</td>\n",
       "      <td>0.245</td>\n",
       "      <td>0</td>\n",
       "    </tr>\n",
       "    <tr>\n",
       "      <th>766</th>\n",
       "      <td>126</td>\n",
       "      <td>30.1</td>\n",
       "      <td>47</td>\n",
       "      <td>1</td>\n",
       "      <td>0.349</td>\n",
       "      <td>1</td>\n",
       "    </tr>\n",
       "    <tr>\n",
       "      <th>767</th>\n",
       "      <td>93</td>\n",
       "      <td>30.4</td>\n",
       "      <td>23</td>\n",
       "      <td>1</td>\n",
       "      <td>0.315</td>\n",
       "      <td>0</td>\n",
       "    </tr>\n",
       "  </tbody>\n",
       "</table>\n",
       "<p>768 rows × 6 columns</p>\n",
       "</div>"
      ],
      "text/plain": [
       "     Glucose   BMI  Age  Pregnancies  DiabetesPedigreeFunction  Outcome\n",
       "0        148  33.6   50            6                     0.627        1\n",
       "1         85  26.6   31            1                     0.351        0\n",
       "2        183  23.3   32            8                     0.672        1\n",
       "3         89  28.1   21            1                     0.167        0\n",
       "4        137  43.1   33            0                     2.288        1\n",
       "..       ...   ...  ...          ...                       ...      ...\n",
       "763      101  32.9   63           10                     0.171        0\n",
       "764      122  36.8   27            2                     0.340        0\n",
       "765      121  26.2   30            5                     0.245        0\n",
       "766      126  30.1   47            1                     0.349        1\n",
       "767       93  30.4   23            1                     0.315        0\n",
       "\n",
       "[768 rows x 6 columns]"
      ]
     },
     "execution_count": 54,
     "metadata": {},
     "output_type": "execute_result"
    }
   ],
   "source": [
    "diabetes_corr=diabetes[['Glucose',\"BMI\",\"Age\",'Pregnancies','DiabetesPedigreeFunction',\"Outcome\"]]\n",
    "diabetes_corr"
   ]
  },
  {
   "cell_type": "code",
   "execution_count": null,
   "id": "1bc725f2",
   "metadata": {},
   "outputs": [],
   "source": []
  },
  {
   "cell_type": "markdown",
   "id": "8d5df605",
   "metadata": {},
   "source": [
    "###### drop Outlier noise data"
   ]
  },
  {
   "cell_type": "code",
   "execution_count": 55,
   "id": "74c3e9fc",
   "metadata": {
    "execution": {
     "iopub.execute_input": "2023-05-16T21:36:40.641148Z",
     "iopub.status.busy": "2023-05-16T21:36:40.640397Z",
     "iopub.status.idle": "2023-05-16T21:36:40.658652Z",
     "shell.execute_reply": "2023-05-16T21:36:40.657233Z",
     "shell.execute_reply.started": "2023-05-16T21:36:40.641088Z"
    }
   },
   "outputs": [],
   "source": [
    "\n",
    "# Calculate the interquartile range (IQR) for each column\n",
    "Q1 = diabetes_corr.quantile(0.25)\n",
    "Q3 = diabetes_corr.quantile(0.75)\n",
    "IQR = Q3 - Q1\n",
    "\n",
    "\n",
    "# Identify  dataoutliers\n",
    "outliers = diabetes_corr[((diabetes_corr < (Q1 - 1.5 * IQR)) | (diabetes_corr > (Q3 + 1.5 * IQR))).any(axis=1)]\n",
    "\n",
    "# drop  the outliers from the data\n",
    "train_clean = diabetes_corr.drop(outliers.index )"
   ]
  },
  {
   "cell_type": "code",
   "execution_count": 56,
   "id": "fa01d208",
   "metadata": {
    "execution": {
     "iopub.execute_input": "2023-05-16T21:36:40.660726Z",
     "iopub.status.busy": "2023-05-16T21:36:40.660324Z",
     "iopub.status.idle": "2023-05-16T21:36:40.680455Z",
     "shell.execute_reply": "2023-05-16T21:36:40.679318Z",
     "shell.execute_reply.started": "2023-05-16T21:36:40.660693Z"
    }
   },
   "outputs": [
    {
     "data": {
      "text/html": [
       "<div>\n",
       "<style scoped>\n",
       "    .dataframe tbody tr th:only-of-type {\n",
       "        vertical-align: middle;\n",
       "    }\n",
       "\n",
       "    .dataframe tbody tr th {\n",
       "        vertical-align: top;\n",
       "    }\n",
       "\n",
       "    .dataframe thead th {\n",
       "        text-align: right;\n",
       "    }\n",
       "</style>\n",
       "<table border=\"1\" class=\"dataframe\">\n",
       "  <thead>\n",
       "    <tr style=\"text-align: right;\">\n",
       "      <th></th>\n",
       "      <th>Glucose</th>\n",
       "      <th>BMI</th>\n",
       "      <th>Age</th>\n",
       "      <th>Pregnancies</th>\n",
       "      <th>DiabetesPedigreeFunction</th>\n",
       "      <th>Outcome</th>\n",
       "    </tr>\n",
       "  </thead>\n",
       "  <tbody>\n",
       "    <tr>\n",
       "      <th>0</th>\n",
       "      <td>148</td>\n",
       "      <td>33.6</td>\n",
       "      <td>50</td>\n",
       "      <td>6</td>\n",
       "      <td>0.627</td>\n",
       "      <td>1</td>\n",
       "    </tr>\n",
       "    <tr>\n",
       "      <th>1</th>\n",
       "      <td>85</td>\n",
       "      <td>26.6</td>\n",
       "      <td>31</td>\n",
       "      <td>1</td>\n",
       "      <td>0.351</td>\n",
       "      <td>0</td>\n",
       "    </tr>\n",
       "    <tr>\n",
       "      <th>2</th>\n",
       "      <td>183</td>\n",
       "      <td>23.3</td>\n",
       "      <td>32</td>\n",
       "      <td>8</td>\n",
       "      <td>0.672</td>\n",
       "      <td>1</td>\n",
       "    </tr>\n",
       "    <tr>\n",
       "      <th>3</th>\n",
       "      <td>89</td>\n",
       "      <td>28.1</td>\n",
       "      <td>21</td>\n",
       "      <td>1</td>\n",
       "      <td>0.167</td>\n",
       "      <td>0</td>\n",
       "    </tr>\n",
       "    <tr>\n",
       "      <th>5</th>\n",
       "      <td>116</td>\n",
       "      <td>25.6</td>\n",
       "      <td>30</td>\n",
       "      <td>5</td>\n",
       "      <td>0.201</td>\n",
       "      <td>0</td>\n",
       "    </tr>\n",
       "    <tr>\n",
       "      <th>...</th>\n",
       "      <td>...</td>\n",
       "      <td>...</td>\n",
       "      <td>...</td>\n",
       "      <td>...</td>\n",
       "      <td>...</td>\n",
       "      <td>...</td>\n",
       "    </tr>\n",
       "    <tr>\n",
       "      <th>763</th>\n",
       "      <td>101</td>\n",
       "      <td>32.9</td>\n",
       "      <td>63</td>\n",
       "      <td>10</td>\n",
       "      <td>0.171</td>\n",
       "      <td>0</td>\n",
       "    </tr>\n",
       "    <tr>\n",
       "      <th>764</th>\n",
       "      <td>122</td>\n",
       "      <td>36.8</td>\n",
       "      <td>27</td>\n",
       "      <td>2</td>\n",
       "      <td>0.340</td>\n",
       "      <td>0</td>\n",
       "    </tr>\n",
       "    <tr>\n",
       "      <th>765</th>\n",
       "      <td>121</td>\n",
       "      <td>26.2</td>\n",
       "      <td>30</td>\n",
       "      <td>5</td>\n",
       "      <td>0.245</td>\n",
       "      <td>0</td>\n",
       "    </tr>\n",
       "    <tr>\n",
       "      <th>766</th>\n",
       "      <td>126</td>\n",
       "      <td>30.1</td>\n",
       "      <td>47</td>\n",
       "      <td>1</td>\n",
       "      <td>0.349</td>\n",
       "      <td>1</td>\n",
       "    </tr>\n",
       "    <tr>\n",
       "      <th>767</th>\n",
       "      <td>93</td>\n",
       "      <td>30.4</td>\n",
       "      <td>23</td>\n",
       "      <td>1</td>\n",
       "      <td>0.315</td>\n",
       "      <td>0</td>\n",
       "    </tr>\n",
       "  </tbody>\n",
       "</table>\n",
       "<p>705 rows × 6 columns</p>\n",
       "</div>"
      ],
      "text/plain": [
       "     Glucose   BMI  Age  Pregnancies  DiabetesPedigreeFunction  Outcome\n",
       "0        148  33.6   50            6                     0.627        1\n",
       "1         85  26.6   31            1                     0.351        0\n",
       "2        183  23.3   32            8                     0.672        1\n",
       "3         89  28.1   21            1                     0.167        0\n",
       "5        116  25.6   30            5                     0.201        0\n",
       "..       ...   ...  ...          ...                       ...      ...\n",
       "763      101  32.9   63           10                     0.171        0\n",
       "764      122  36.8   27            2                     0.340        0\n",
       "765      121  26.2   30            5                     0.245        0\n",
       "766      126  30.1   47            1                     0.349        1\n",
       "767       93  30.4   23            1                     0.315        0\n",
       "\n",
       "[705 rows x 6 columns]"
      ]
     },
     "execution_count": 56,
     "metadata": {},
     "output_type": "execute_result"
    }
   ],
   "source": [
    "train_clean"
   ]
  },
  {
   "cell_type": "code",
   "execution_count": 57,
   "id": "c8040e39",
   "metadata": {
    "execution": {
     "iopub.execute_input": "2023-05-16T21:36:40.682413Z",
     "iopub.status.busy": "2023-05-16T21:36:40.682017Z",
     "iopub.status.idle": "2023-05-16T21:36:41.295545Z",
     "shell.execute_reply": "2023-05-16T21:36:41.294290Z",
     "shell.execute_reply.started": "2023-05-16T21:36:40.682379Z"
    }
   },
   "outputs": [
    {
     "data": {
      "text/plain": [
       "Text(0.5, 1.0, 'Correlation data ')"
      ]
     },
     "execution_count": 57,
     "metadata": {},
     "output_type": "execute_result"
    },
    {
     "data": {
      "image/png": "[encoded data removed]",
      "text/plain": [
       "<Figure size 1500x1500 with 2 Axes>"
      ]
     },
     "metadata": {},
     "output_type": "display_data"
    }
   ],
   "source": [
    "#visualizing the correlation between the variables in the diabetes \n",
    "plt.figure(figsize=(15,15))\n",
    "sns.heatmap (np.abs(train_clean.corr()), annot = True  )\n",
    "plt.title (\"Correlation data \" , fontsize = 12 )\n"
   ]
  },
  {
   "cell_type": "code",
   "execution_count": null,
   "id": "fbed5638",
   "metadata": {},
   "outputs": [],
   "source": []
  },
  {
   "cell_type": "code",
   "execution_count": 58,
   "id": "85e0ad5d",
   "metadata": {
    "execution": {
     "iopub.execute_input": "2023-05-16T21:36:41.297357Z",
     "iopub.status.busy": "2023-05-16T21:36:41.296851Z",
     "iopub.status.idle": "2023-05-16T21:36:41.304979Z",
     "shell.execute_reply": "2023-05-16T21:36:41.304069Z",
     "shell.execute_reply.started": "2023-05-16T21:36:41.297304Z"
    }
   },
   "outputs": [],
   "source": [
    "#split data\n",
    "X= train_clean.drop(columns=['Outcome']) # data\n",
    "y= train_clean['Outcome']  #target"
   ]
  },
  {
   "cell_type": "code",
   "execution_count": null,
   "id": "8948f16a",
   "metadata": {},
   "outputs": [],
   "source": []
  },
  {
   "cell_type": "code",
   "execution_count": 59,
   "id": "6a348bc9",
   "metadata": {
    "execution": {
     "iopub.execute_input": "2023-05-16T21:36:41.307323Z",
     "iopub.status.busy": "2023-05-16T21:36:41.306265Z",
     "iopub.status.idle": "2023-05-16T21:36:41.324619Z",
     "shell.execute_reply": "2023-05-16T21:36:41.323666Z",
     "shell.execute_reply.started": "2023-05-16T21:36:41.307287Z"
    }
   },
   "outputs": [],
   "source": [
    "#StandardScaler in dataframe\n",
    "Stand = StandardScaler()\n",
    "x = pd.DataFrame(Stand.fit_transform(X) , columns=X.columns)"
   ]
  },
  {
   "cell_type": "code",
   "execution_count": 60,
   "id": "d3d7b877",
   "metadata": {
    "execution": {
     "iopub.execute_input": "2023-05-16T21:36:41.326706Z",
     "iopub.status.busy": "2023-05-16T21:36:41.326033Z",
     "iopub.status.idle": "2023-05-16T21:36:41.347884Z",
     "shell.execute_reply": "2023-05-16T21:36:41.347019Z",
     "shell.execute_reply.started": "2023-05-16T21:36:41.326669Z"
    }
   },
   "outputs": [
    {
     "data": {
      "text/html": [
       "<div>\n",
       "<style scoped>\n",
       "    .dataframe tbody tr th:only-of-type {\n",
       "        vertical-align: middle;\n",
       "    }\n",
       "\n",
       "    .dataframe tbody tr th {\n",
       "        vertical-align: top;\n",
       "    }\n",
       "\n",
       "    .dataframe thead th {\n",
       "        text-align: right;\n",
       "    }\n",
       "</style>\n",
       "<table border=\"1\" class=\"dataframe\">\n",
       "  <thead>\n",
       "    <tr style=\"text-align: right;\">\n",
       "      <th></th>\n",
       "      <th>Glucose</th>\n",
       "      <th>BMI</th>\n",
       "      <th>Age</th>\n",
       "      <th>Pregnancies</th>\n",
       "      <th>DiabetesPedigreeFunction</th>\n",
       "    </tr>\n",
       "  </thead>\n",
       "  <tbody>\n",
       "    <tr>\n",
       "      <th>0</th>\n",
       "      <td>0.894987</td>\n",
       "      <td>0.221773</td>\n",
       "      <td>1.536724</td>\n",
       "      <td>0.670837</td>\n",
       "      <td>0.784690</td>\n",
       "    </tr>\n",
       "    <tr>\n",
       "      <th>1</th>\n",
       "      <td>-1.202793</td>\n",
       "      <td>-0.857459</td>\n",
       "      <td>-0.167284</td>\n",
       "      <td>-0.856747</td>\n",
       "      <td>-0.316195</td>\n",
       "    </tr>\n",
       "    <tr>\n",
       "      <th>2</th>\n",
       "      <td>2.060420</td>\n",
       "      <td>-1.366240</td>\n",
       "      <td>-0.077599</td>\n",
       "      <td>1.281871</td>\n",
       "      <td>0.964182</td>\n",
       "    </tr>\n",
       "    <tr>\n",
       "      <th>3</th>\n",
       "      <td>-1.069601</td>\n",
       "      <td>-0.626195</td>\n",
       "      <td>-1.064131</td>\n",
       "      <td>-0.856747</td>\n",
       "      <td>-1.050117</td>\n",
       "    </tr>\n",
       "    <tr>\n",
       "      <th>4</th>\n",
       "      <td>-0.170552</td>\n",
       "      <td>-1.011635</td>\n",
       "      <td>-0.256969</td>\n",
       "      <td>0.365320</td>\n",
       "      <td>-0.914501</td>\n",
       "    </tr>\n",
       "    <tr>\n",
       "      <th>...</th>\n",
       "      <td>...</td>\n",
       "      <td>...</td>\n",
       "      <td>...</td>\n",
       "      <td>...</td>\n",
       "      <td>...</td>\n",
       "    </tr>\n",
       "    <tr>\n",
       "      <th>700</th>\n",
       "      <td>-0.670024</td>\n",
       "      <td>0.113850</td>\n",
       "      <td>2.702625</td>\n",
       "      <td>1.892904</td>\n",
       "      <td>-1.034163</td>\n",
       "    </tr>\n",
       "    <tr>\n",
       "      <th>701</th>\n",
       "      <td>0.029236</td>\n",
       "      <td>0.715136</td>\n",
       "      <td>-0.526023</td>\n",
       "      <td>-0.551230</td>\n",
       "      <td>-0.360070</td>\n",
       "    </tr>\n",
       "    <tr>\n",
       "      <th>702</th>\n",
       "      <td>-0.004062</td>\n",
       "      <td>-0.919130</td>\n",
       "      <td>-0.256969</td>\n",
       "      <td>0.365320</td>\n",
       "      <td>-0.738998</td>\n",
       "    </tr>\n",
       "    <tr>\n",
       "      <th>703</th>\n",
       "      <td>0.162429</td>\n",
       "      <td>-0.317843</td>\n",
       "      <td>1.267670</td>\n",
       "      <td>-0.856747</td>\n",
       "      <td>-0.324172</td>\n",
       "    </tr>\n",
       "    <tr>\n",
       "      <th>704</th>\n",
       "      <td>-0.936409</td>\n",
       "      <td>-0.271590</td>\n",
       "      <td>-0.884761</td>\n",
       "      <td>-0.856747</td>\n",
       "      <td>-0.459788</td>\n",
       "    </tr>\n",
       "  </tbody>\n",
       "</table>\n",
       "<p>705 rows × 5 columns</p>\n",
       "</div>"
      ],
      "text/plain": [
       "      Glucose       BMI       Age  Pregnancies  DiabetesPedigreeFunction\n",
       "0    0.894987  0.221773  1.536724     0.670837                  0.784690\n",
       "1   -1.202793 -0.857459 -0.167284    -0.856747                 -0.316195\n",
       "2    2.060420 -1.366240 -0.077599     1.281871                  0.964182\n",
       "3   -1.069601 -0.626195 -1.064131    -0.856747                 -1.050117\n",
       "4   -0.170552 -1.011635 -0.256969     0.365320                 -0.914501\n",
       "..        ...       ...       ...          ...                       ...\n",
       "700 -0.670024  0.113850  2.702625     1.892904                 -1.034163\n",
       "701  0.029236  0.715136 -0.526023    -0.551230                 -0.360070\n",
       "702 -0.004062 -0.919130 -0.256969     0.365320                 -0.738998\n",
       "703  0.162429 -0.317843  1.267670    -0.856747                 -0.324172\n",
       "704 -0.936409 -0.271590 -0.884761    -0.856747                 -0.459788\n",
       "\n",
       "[705 rows x 5 columns]"
      ]
     },
     "execution_count": 60,
     "metadata": {},
     "output_type": "execute_result"
    }
   ],
   "source": [
    "x"
   ]
  },
  {
   "cell_type": "code",
   "execution_count": null,
   "id": "8e25b261",
   "metadata": {},
   "outputs": [],
   "source": []
  },
  {
   "cell_type": "code",
   "execution_count": 61,
   "id": "15851ab7",
   "metadata": {
    "execution": {
     "iopub.execute_input": "2023-05-16T21:36:41.350028Z",
     "iopub.status.busy": "2023-05-16T21:36:41.349195Z",
     "iopub.status.idle": "2023-05-16T21:36:41.363060Z",
     "shell.execute_reply": "2023-05-16T21:36:41.361701Z",
     "shell.execute_reply.started": "2023-05-16T21:36:41.349993Z"
    }
   },
   "outputs": [],
   "source": [
    "#create List models \n",
    "models = []\n",
    "models.append(('KNN', KNeighborsClassifier()))\n",
    "models.append(('SVM', SVC()))\n",
    "models.append(('DecisionTreeClassifier', DecisionTreeClassifier()))\n",
    "models.append(('LogisticRegression', LogisticRegression()))\n",
    "models.append(('LinearDiscriminantAnalysis', LinearDiscriminantAnalysis()))\n",
    "models.append(('GaussianNB', GaussianNB()))\n",
    "models.append(('MLPClassifier', MLPClassifier()))\n",
    "models.append(('BayesianGaussianMixture', BayesianGaussianMixture()))\n",
    "models.append(('SGDClassifier', SGDClassifier()))\n",
    "models.append(('RandomForestClassifier', RandomForestClassifier()))"
   ]
  },
  {
   "cell_type": "code",
   "execution_count": 62,
   "id": "f968bf14",
   "metadata": {
    "execution": {
     "iopub.execute_input": "2023-05-16T21:36:41.367739Z",
     "iopub.status.busy": "2023-05-16T21:36:41.366944Z",
     "iopub.status.idle": "2023-05-16T21:36:52.539056Z",
     "shell.execute_reply": "2023-05-16T21:36:52.538118Z",
     "shell.execute_reply.started": "2023-05-16T21:36:41.367694Z"
    }
   },
   "outputs": [
    {
     "name": "stdout",
     "output_type": "stream",
     "text": [
      "KNN : score 0.745 \n",
      "SVM : score 0.757 \n",
      "DecisionTreeClassifier : score 0.741 \n",
      "LogisticRegression : score 0.752 \n",
      "LinearDiscriminantAnalysis : score 0.757 \n",
      "GaussianNB : score 0.758 \n",
      "MLPClassifier : score 0.751 \n",
      "BayesianGaussianMixture : score 0.740 \n",
      "SGDClassifier : score 0.719 \n",
      "RandomForestClassifier : score 0.725 \n"
     ]
    }
   ],
   "source": [
    "\n",
    "# calculate accuracy\n",
    "scoring_=[]\n",
    "\n",
    "name_m=[]\n",
    "\n",
    "\n",
    "\n",
    "for i in range(len(models)):\n",
    "    kfold = KFold(n_splits=10, shuffle=True, random_state=43)\n",
    "    scor = cross_val_score(models[i][1], X, y, cv=kfold, scoring='accuracy')  \n",
    "    scoring_.append(scor)\n",
    "    name_m.append(models[i][0])\n",
    "    print(\"{} : score {:.3f} \".format(models[i][0]  , np.mean(scoring_)  ))"
   ]
  },
  {
   "cell_type": "code",
   "execution_count": 63,
   "id": "11a8e989",
   "metadata": {
    "execution": {
     "iopub.execute_input": "2023-05-16T21:36:52.540946Z",
     "iopub.status.busy": "2023-05-16T21:36:52.540424Z",
     "iopub.status.idle": "2023-05-16T21:36:52.940440Z",
     "shell.execute_reply": "2023-05-16T21:36:52.939245Z",
     "shell.execute_reply.started": "2023-05-16T21:36:52.540915Z"
    }
   },
   "outputs": [
    {
     "data": {
      "image/png": "[encoded data removed]",
      "text/plain": [
       "<Figure size 1000x600 with 1 Axes>"
      ]
     },
     "metadata": {},
     "output_type": "display_data"
    }
   ],
   "source": [
    "# visualization boxplot Algorithm Accuracy Comparison\n",
    "fig = plt.figure(figsize=(10,6))\n",
    "fig.suptitle('Algorithm Accuracy Comparison')\n",
    "ax = fig.add_subplot(111)\n",
    "\n",
    "plt.boxplot(scoring_)\n",
    "plt.axhline(0.75, color='pink', linestyle='solid')\n",
    "plt.axhline(0.80, color='green', linestyle='solid')\n",
    "plt.axhline(0.85, color='red', linestyle='solid')\n",
    "ax.set_xticklabels(name_m,rotation=70)\n",
    "plt.show()"
   ]
  },
  {
   "cell_type": "code",
   "execution_count": null,
   "id": "61f8d26c",
   "metadata": {},
   "outputs": [],
   "source": []
  },
  {
   "cell_type": "code",
   "execution_count": 64,
   "id": "c5d9bf53",
   "metadata": {
    "execution": {
     "iopub.execute_input": "2023-05-16T21:36:52.943167Z",
     "iopub.status.busy": "2023-05-16T21:36:52.942284Z",
     "iopub.status.idle": "2023-05-16T21:36:52.953416Z",
     "shell.execute_reply": "2023-05-16T21:36:52.952238Z",
     "shell.execute_reply.started": "2023-05-16T21:36:52.943103Z"
    }
   },
   "outputs": [],
   "source": [
    "def confusion_matrix_sh(confusion_matrix, class_labels):\n",
    "    \"\"\"\n",
    "    Display the confusion matrix using matplotlib.\n",
    "    \"\"\"\n",
    "\n",
    "    # Normalize the confusion matrix\n",
    "    confusion_matrix_normalized = confusion_matrix.astype('float') / confusion_matrix.sum(axis=1)[:, np.newaxis]\n",
    "\n",
    "    # Set up the figure\n",
    "    plt.figure(figsize=(8, 6))\n",
    "    plt.imshow(confusion_matrix_normalized, interpolation='nearest', cmap=plt.cm.Blues)\n",
    "    plt.title('Confusion Matrix')\n",
    "    plt.colorbar()\n",
    "    tick_marks = np.arange(len(class_labels))\n",
    "    plt.xticks(tick_marks, class_labels, rotation=45)\n",
    "    plt.yticks(tick_marks, class_labels)\n",
    "\n",
    "    # Add labels to each cell\n",
    "    thresh = confusion_matrix_normalized.max() / 2.0\n",
    "    for i, j in np.ndindex(confusion_matrix.shape):\n",
    "        plt.text(j, i, format(confusion_matrix[i, j], 'd'),\n",
    "                 horizontalalignment=\"center\",\n",
    "                 color=\"white\" if confusion_matrix_normalized[i, j] > thresh else \"black\")\n",
    "\n",
    "    # Set axis labels\n",
    "    plt.xlabel('Predicted Class')\n",
    "    plt.ylabel('True Class')\n",
    "\n",
    "    # Show the plot\n",
    "    plt.tight_layout()\n",
    "    plt.show()"
   ]
  },
  {
   "cell_type": "code",
   "execution_count": 65,
   "id": "9007611f",
   "metadata": {
    "execution": {
     "iopub.execute_input": "2023-05-16T21:36:52.957879Z",
     "iopub.status.busy": "2023-05-16T21:36:52.957541Z",
     "iopub.status.idle": "2023-05-16T21:36:52.970673Z",
     "shell.execute_reply": "2023-05-16T21:36:52.969548Z",
     "shell.execute_reply.started": "2023-05-16T21:36:52.957851Z"
    }
   },
   "outputs": [],
   "source": [
    "# function evaluation \n",
    "def evaluate(model,X,target):\n",
    "    \"\"\"\n",
    "    Evaluate the performance of the model\n",
    "    \n",
    "    Inputs:\n",
    "     Model , \n",
    "     Data , \n",
    "     Target .     \n",
    "     \n",
    "     \n",
    "    Outputs:\n",
    "    Accuracy,\n",
    "    Precision \n",
    "    Recall\n",
    "    F1 Score\n",
    "    AUC-ROC\n",
    "    confusion matrix\n",
    "    \"\"\"\n",
    "    \n",
    "    #split the data into training and testing \n",
    "    X_train,X_test ,y_train , y_test=train_test_split(X , target ,test_size=0.25 , random_state=543 )\n",
    "    \n",
    "    model.fit(X_train , y_train)  # fit model     \n",
    "    \n",
    "    y_pred=model.predict(X_test)\n",
    "    \n",
    "    \n",
    "    print(\"model: \",model)\n",
    "    \n",
    "    # Accuracy\n",
    "    accuracy = accuracy_score(y_test, y_pred)\n",
    "    print(\"Accuracy:\", accuracy)\n",
    "\n",
    "    # Precision\n",
    "    precision = precision_score(y_test, y_pred)\n",
    "    print(\"Precision:\", precision)\n",
    "\n",
    "    # Recall\n",
    "    recall = recall_score(y_test, y_pred)\n",
    "    print(\"Recall:\", recall)\n",
    "\n",
    "    # F1 Score\n",
    "    f1 = f1_score(y_test, y_pred)\n",
    "    print(\"F1 Score:\", f1)\n",
    "\n",
    "    # AUC-ROC\n",
    "    auc_roc = roc_auc_score(y_test, y_pred)\n",
    "    print(\"AUC-ROC:\", auc_roc)\n",
    "\n",
    "    \n",
    "  \n",
    "    # Confusion Matrix\n",
    "    confusion = confusion_matrix(y_test, y_pred)\n",
    "    print(\"Confusion Matrix:\\n\", confusion)\n",
    "\n",
    "    \"\"\"\n",
    "      \n",
    "    #confusion matrix\n",
    "    con_matrix = plot_confusion_matrix(model, X_test, y_test, cmap=plt.cm.bone_r ,colorbar=True,labels=[0,1])\n",
    "    con_matrix.ax_.set_title(\"Confusion Matrix\")\n",
    "    \n",
    "    \n",
    "    \"\"\"\n",
    "    \n",
    "    report = classification_report(y_test, y_pred)\n",
    "    print(report)\n",
    "    "
   ]
  },
  {
   "cell_type": "code",
   "execution_count": null,
   "id": "c6e6513e",
   "metadata": {},
   "outputs": [],
   "source": []
  },
  {
   "cell_type": "code",
   "execution_count": null,
   "id": "15f2f028",
   "metadata": {},
   "outputs": [],
   "source": []
  },
  {
   "cell_type": "code",
   "execution_count": null,
   "id": "73e66c4e",
   "metadata": {},
   "outputs": [],
   "source": []
  },
  {
   "cell_type": "code",
   "execution_count": null,
   "id": "2133fb2b",
   "metadata": {},
   "outputs": [],
   "source": []
  },
  {
   "cell_type": "markdown",
   "id": "d92b5798",
   "metadata": {},
   "source": [
    "## K Nearest Neighbour predicted"
   ]
  },
  {
   "cell_type": "markdown",
   "id": "66872eff",
   "metadata": {},
   "source": [
    "It can be said that the Neighbors Nearest-k ,It is the simplest machine learning algorithm composed Build the model only from storing the training data set. To make a forecast for a new point in a group data, the algorithm finds the closest data points in the training data set"
   ]
  },
  {
   "cell_type": "markdown",
   "id": "1b44c06c",
   "metadata": {},
   "source": [
    "First, let's see if we can confirm the relationship between model complexity and accuracy:"
   ]
  },
  {
   "cell_type": "code",
   "execution_count": 66,
   "id": "a3ff81ca",
   "metadata": {
    "execution": {
     "iopub.execute_input": "2023-05-16T21:36:52.972768Z",
     "iopub.status.busy": "2023-05-16T21:36:52.972384Z",
     "iopub.status.idle": "2023-05-16T21:36:52.988156Z",
     "shell.execute_reply": "2023-05-16T21:36:52.987056Z",
     "shell.execute_reply.started": "2023-05-16T21:36:52.972739Z"
    }
   },
   "outputs": [],
   "source": [
    "#split data into train ,split\n",
    "X_train, X_test, y_train, y_test = train_test_split(X,y , random_state=543)"
   ]
  },
  {
   "cell_type": "code",
   "execution_count": null,
   "id": "0a2ac61d",
   "metadata": {},
   "outputs": [],
   "source": []
  },
  {
   "cell_type": "code",
   "execution_count": 67,
   "id": "c95a84da",
   "metadata": {
    "execution": {
     "iopub.execute_input": "2023-05-16T21:36:52.992488Z",
     "iopub.status.busy": "2023-05-16T21:36:52.992148Z",
     "iopub.status.idle": "2023-05-16T21:36:53.631269Z",
     "shell.execute_reply": "2023-05-16T21:36:53.630334Z",
     "shell.execute_reply.started": "2023-05-16T21:36:52.992457Z"
    }
   },
   "outputs": [
    {
     "data": {
      "text/plain": [
       "<matplotlib.legend.Legend at 0x7aa2e2a9d780>"
      ]
     },
     "execution_count": 67,
     "metadata": {},
     "output_type": "execute_result"
    },
    {
     "data": {
      "image/png": "[encoded data removed]",
      "text/plain": [
       "<Figure size 640x480 with 1 Axes>"
      ]
     },
     "metadata": {},
     "output_type": "display_data"
    }
   ],
   "source": [
    "training_accuracy = []\n",
    "test_accuracy = []\n",
    "# try n_neighbors from 1 to 10\n",
    "neighbors_settings = range(1, 11)\n",
    "for n_neighbors in neighbors_settings:\n",
    "    # bulding nodel\n",
    "    knn = KNeighborsClassifier(n_neighbors=n_neighbors)\n",
    "    knn.fit(X_train, y_train)\n",
    "    # record training set accuracy\n",
    "    training_accuracy.append(knn.score(X_train, y_train))\n",
    "    # record test set accuracy\n",
    "    test_accuracy.append(knn.score(X_test, y_test))\n",
    "plt.plot(neighbors_settings, training_accuracy, label=\"training accuracy\")\n",
    "plt.plot(neighbors_settings, test_accuracy, label=\"test accuracy\")\n",
    "plt.ylabel(\"Accuracy\")\n",
    "plt.xlabel(\"n_neighbors\")\n",
    "plt.legend()"
   ]
  },
  {
   "cell_type": "code",
   "execution_count": null,
   "id": "36cf7eac",
   "metadata": {},
   "outputs": [],
   "source": []
  },
  {
   "cell_type": "code",
   "execution_count": 68,
   "id": "8140b9ec",
   "metadata": {
    "execution": {
     "iopub.execute_input": "2023-05-16T21:36:53.633040Z",
     "iopub.status.busy": "2023-05-16T21:36:53.632716Z",
     "iopub.status.idle": "2023-05-16T21:36:53.679285Z",
     "shell.execute_reply": "2023-05-16T21:36:53.678226Z",
     "shell.execute_reply.started": "2023-05-16T21:36:53.633011Z"
    },
    "scrolled": true
   },
   "outputs": [
    {
     "name": "stdout",
     "output_type": "stream",
     "text": [
      "model:  KNeighborsClassifier(n_neighbors=2)\n",
      "Accuracy: 0.768361581920904\n",
      "Precision: 0.8571428571428571\n",
      "Recall: 0.39344262295081966\n",
      "F1 Score: 0.5393258426966292\n",
      "AUC-ROC: 0.6794799321650651\n",
      "Confusion Matrix:\n",
      " [[112   4]\n",
      " [ 37  24]]\n",
      "              precision    recall  f1-score   support\n",
      "\n",
      "           0       0.75      0.97      0.85       116\n",
      "           1       0.86      0.39      0.54        61\n",
      "\n",
      "    accuracy                           0.77       177\n",
      "   macro avg       0.80      0.68      0.69       177\n",
      "weighted avg       0.79      0.77      0.74       177\n",
      "\n"
     ]
    }
   ],
   "source": [
    "## check   accuracy of the k-nearest neighbors\n",
    "evaluate(KNeighborsClassifier(n_neighbors=2), X,y)"
   ]
  },
  {
   "cell_type": "code",
   "execution_count": null,
   "id": "bf13e178",
   "metadata": {},
   "outputs": [],
   "source": []
  },
  {
   "cell_type": "markdown",
   "id": "67f760f0",
   "metadata": {},
   "source": [
    "## support vector machine"
   ]
  },
  {
   "cell_type": "code",
   "execution_count": 69,
   "id": "dc2cf93a",
   "metadata": {
    "execution": {
     "iopub.execute_input": "2023-05-16T21:36:53.683718Z",
     "iopub.status.busy": "2023-05-16T21:36:53.683341Z",
     "iopub.status.idle": "2023-05-16T21:36:53.705057Z",
     "shell.execute_reply": "2023-05-16T21:36:53.703773Z",
     "shell.execute_reply.started": "2023-05-16T21:36:53.683687Z"
    }
   },
   "outputs": [
    {
     "name": "stdout",
     "output_type": "stream",
     "text": [
      "Accuracy: 0.7966101694915254\n"
     ]
    }
   ],
   "source": [
    "model=SVC()\n",
    "model.fit(X_train , y_train)\n",
    "y_pred=model.predict(X_test)\n",
    "accuracy = accuracy_score(y_test, y_pred)\n",
    "print(\"Accuracy:\", accuracy)"
   ]
  },
  {
   "cell_type": "code",
   "execution_count": 70,
   "id": "34a32c36",
   "metadata": {
    "execution": {
     "iopub.execute_input": "2023-05-16T21:36:53.706603Z",
     "iopub.status.busy": "2023-05-16T21:36:53.706258Z",
     "iopub.status.idle": "2023-05-16T21:36:55.547761Z",
     "shell.execute_reply": "2023-05-16T21:36:55.546715Z",
     "shell.execute_reply.started": "2023-05-16T21:36:53.706573Z"
    }
   },
   "outputs": [
    {
     "name": "stdout",
     "output_type": "stream",
     "text": [
      "Best Parameters:  {'C': 10, 'gamma': 0.0001}\n",
      "Best Accuracy:  0.7537878787878788\n",
      "Test Accuracy:  0.7909604519774012\n"
     ]
    }
   ],
   "source": [
    "param_grid = {'C': [0.1, 1, 10,100,1000,10000], 'gamma': [0.0001,0.001,0.01, 0.1, 1,10,100,1000]}\n",
    "\n",
    "# Create an instance of the model\n",
    "model = SVC()\n",
    "\n",
    "# Create an instance of GridSearchCV\n",
    "grid_search = GridSearchCV(estimator=model, param_grid=param_grid, cv=2)\n",
    "\n",
    "# Fit the GridSearchCV \n",
    "grid_search.fit(X_train, y_train)\n",
    "\n",
    "# Get the best parameter \n",
    "best_params = grid_search.best_params_\n",
    "best_accuracy = grid_search.best_score_\n",
    "\n",
    "# Evaluate the model with the best parameters \n",
    "best_model = grid_search.best_estimator_\n",
    "test_accuracy = best_model.score(X_test, y_test)\n",
    "\n",
    "# Print the results\n",
    "print(\"Best Parameters: \", best_params)\n",
    "print(\"Best Accuracy: \", best_accuracy)\n",
    "print(\"Test Accuracy: \", test_accuracy)"
   ]
  },
  {
   "cell_type": "code",
   "execution_count": 71,
   "id": "439dbe41",
   "metadata": {
    "execution": {
     "iopub.execute_input": "2023-05-16T21:36:55.549278Z",
     "iopub.status.busy": "2023-05-16T21:36:55.548962Z",
     "iopub.status.idle": "2023-05-16T21:36:57.396313Z",
     "shell.execute_reply": "2023-05-16T21:36:57.395035Z",
     "shell.execute_reply.started": "2023-05-16T21:36:55.549250Z"
    }
   },
   "outputs": [
    {
     "name": "stdout",
     "output_type": "stream",
     "text": [
      "model:  GridSearchCV(cv=2, estimator=SVC(),\n",
      "             param_grid={'C': [0.1, 1, 10, 100, 1000, 10000],\n",
      "                         'gamma': [0.0001, 0.001, 0.01, 0.1, 1, 10, 100, 1000]})\n",
      "Accuracy: 0.7909604519774012\n",
      "Precision: 0.8\n",
      "Recall: 0.5245901639344263\n",
      "F1 Score: 0.6336633663366338\n",
      "AUC-ROC: 0.7278123233465236\n",
      "Confusion Matrix:\n",
      " [[108   8]\n",
      " [ 29  32]]\n",
      "              precision    recall  f1-score   support\n",
      "\n",
      "           0       0.79      0.93      0.85       116\n",
      "           1       0.80      0.52      0.63        61\n",
      "\n",
      "    accuracy                           0.79       177\n",
      "   macro avg       0.79      0.73      0.74       177\n",
      "weighted avg       0.79      0.79      0.78       177\n",
      "\n"
     ]
    }
   ],
   "source": [
    "## check   accuracy of the  SVC\n",
    "\n",
    "evaluate(grid_search,X,y)"
   ]
  },
  {
   "cell_type": "code",
   "execution_count": null,
   "id": "52ba198f",
   "metadata": {},
   "outputs": [],
   "source": []
  },
  {
   "cell_type": "markdown",
   "id": "0498022c",
   "metadata": {},
   "source": [
    "  "
   ]
  },
  {
   "cell_type": "markdown",
   "id": "36e87888",
   "metadata": {},
   "source": [
    "## Decision tree classifier"
   ]
  },
  {
   "cell_type": "code",
   "execution_count": 72,
   "id": "d1e1e9ff",
   "metadata": {
    "execution": {
     "iopub.execute_input": "2023-05-16T21:36:57.398432Z",
     "iopub.status.busy": "2023-05-16T21:36:57.398045Z",
     "iopub.status.idle": "2023-05-16T21:36:57.418578Z",
     "shell.execute_reply": "2023-05-16T21:36:57.417028Z",
     "shell.execute_reply.started": "2023-05-16T21:36:57.398399Z"
    }
   },
   "outputs": [
    {
     "name": "stdout",
     "output_type": "stream",
     "text": [
      "Accuracy on training set: 1.000\n",
      "Accuracy on test set: 0.723\n"
     ]
    }
   ],
   "source": [
    "tree = DecisionTreeClassifier(random_state=0)\n",
    "tree.fit(X_train, y_train)\n",
    "\n",
    "print(\"Accuracy on training set: {:.3f}\".format(tree.score(X_train,y_train))) # To calculate the accuracy of the training data\n",
    "print(\"Accuracy on test set: {:.3f}\".format(tree.score(X_test,y_test)))   # To calculate the accuracy of the test data"
   ]
  },
  {
   "cell_type": "markdown",
   "id": "48dcb281",
   "metadata": {},
   "source": [
    "The accuracy on the training set using the decision tree classifier is 100\n",
    "\n",
    "While the accuracy of the test set is much worse. This is an indication that the tree is suffering from over-adjustment\n"
   ]
  },
  {
   "cell_type": "markdown",
   "id": "cff283ae",
   "metadata": {},
   "source": [
    "overfitting , It does not generalize well to new data. Therefore, we need to apply pre-pruning\n",
    "  on the tree"
   ]
  },
  {
   "cell_type": "markdown",
   "id": "f0abba76",
   "metadata": {},
   "source": [
    "Now I will do it again by setting\n",
    "3 = depth_m\n",
    "Which reduces the depth of the tree.\n",
    "This leads to a lower accuracy in the training set, but improves the test set. "
   ]
  },
  {
   "cell_type": "code",
   "execution_count": 73,
   "id": "6b28079a",
   "metadata": {
    "execution": {
     "iopub.execute_input": "2023-05-16T21:36:57.420738Z",
     "iopub.status.busy": "2023-05-16T21:36:57.420350Z",
     "iopub.status.idle": "2023-05-16T21:36:57.452559Z",
     "shell.execute_reply": "2023-05-16T21:36:57.451357Z",
     "shell.execute_reply.started": "2023-05-16T21:36:57.420706Z"
    }
   },
   "outputs": [
    {
     "name": "stdout",
     "output_type": "stream",
     "text": [
      "model:  DecisionTreeClassifier(ccp_alpha=2, criterion='entropy', max_depth=3,\n",
      "                       min_samples_split=5)\n",
      "Accuracy: 0.655367231638418\n",
      "Precision: 0.0\n",
      "Recall: 0.0\n",
      "F1 Score: 0.0\n",
      "AUC-ROC: 0.5\n",
      "Confusion Matrix:\n",
      " [[116   0]\n",
      " [ 61   0]]\n",
      "              precision    recall  f1-score   support\n",
      "\n",
      "           0       0.66      1.00      0.79       116\n",
      "           1       0.00      0.00      0.00        61\n",
      "\n",
      "    accuracy                           0.66       177\n",
      "   macro avg       0.33      0.50      0.40       177\n",
      "weighted avg       0.43      0.66      0.52       177\n",
      "\n"
     ]
    }
   ],
   "source": [
    "## We check   accuracy of the  Decision tree classifier algorithm for predicting diabetes\n",
    "model_tree= DecisionTreeClassifier(criterion=\"entropy\", max_depth = 3,ccp_alpha=2,min_samples_split=5)\n",
    "evaluate(model_tree, X,y)"
   ]
  },
  {
   "cell_type": "code",
   "execution_count": null,
   "id": "48a2d9f7",
   "metadata": {},
   "outputs": [],
   "source": []
  },
  {
   "cell_type": "code",
   "execution_count": null,
   "id": "363ad86b",
   "metadata": {},
   "outputs": [],
   "source": []
  },
  {
   "cell_type": "markdown",
   "id": "7a7a8ca2",
   "metadata": {},
   "source": [
    "## LogisticRegression for predicting diabetes"
   ]
  },
  {
   "cell_type": "code",
   "execution_count": 74,
   "id": "9b320874",
   "metadata": {
    "execution": {
     "iopub.execute_input": "2023-05-16T21:36:57.454540Z",
     "iopub.status.busy": "2023-05-16T21:36:57.454218Z",
     "iopub.status.idle": "2023-05-16T21:36:57.498399Z",
     "shell.execute_reply": "2023-05-16T21:36:57.497028Z",
     "shell.execute_reply.started": "2023-05-16T21:36:57.454511Z"
    },
    "scrolled": true
   },
   "outputs": [
    {
     "name": "stdout",
     "output_type": "stream",
     "text": [
      "model:  LogisticRegression()\n",
      "Accuracy: 0.8022598870056498\n",
      "Precision: 0.8095238095238095\n",
      "Recall: 0.5573770491803278\n",
      "F1 Score: 0.6601941747572815\n",
      "AUC-ROC: 0.7442057659694742\n",
      "Confusion Matrix:\n",
      " [[108   8]\n",
      " [ 27  34]]\n",
      "              precision    recall  f1-score   support\n",
      "\n",
      "           0       0.80      0.93      0.86       116\n",
      "           1       0.81      0.56      0.66        61\n",
      "\n",
      "    accuracy                           0.80       177\n",
      "   macro avg       0.80      0.74      0.76       177\n",
      "weighted avg       0.80      0.80      0.79       177\n",
      "\n"
     ]
    }
   ],
   "source": [
    "## We check   accuracy of the Logistic Regression\n",
    "evaluate(LogisticRegression(), X,y)"
   ]
  },
  {
   "cell_type": "code",
   "execution_count": null,
   "id": "581a3a1c",
   "metadata": {},
   "outputs": [],
   "source": []
  },
  {
   "cell_type": "code",
   "execution_count": null,
   "id": "44602cd1",
   "metadata": {},
   "outputs": [],
   "source": []
  },
  {
   "cell_type": "markdown",
   "id": "e716734f",
   "metadata": {},
   "source": [
    "### LinearDiscriminantAnalysis"
   ]
  },
  {
   "cell_type": "code",
   "execution_count": 75,
   "id": "71f43f2f",
   "metadata": {
    "execution": {
     "iopub.execute_input": "2023-05-16T21:36:57.500420Z",
     "iopub.status.busy": "2023-05-16T21:36:57.500069Z",
     "iopub.status.idle": "2023-05-16T21:36:57.530381Z",
     "shell.execute_reply": "2023-05-16T21:36:57.528792Z",
     "shell.execute_reply.started": "2023-05-16T21:36:57.500391Z"
    }
   },
   "outputs": [
    {
     "name": "stdout",
     "output_type": "stream",
     "text": [
      "model:  LinearDiscriminantAnalysis()\n",
      "Accuracy: 0.807909604519774\n",
      "Precision: 0.813953488372093\n",
      "Recall: 0.5737704918032787\n",
      "F1 Score: 0.673076923076923\n",
      "AUC-ROC: 0.7524024872809496\n",
      "Confusion Matrix:\n",
      " [[108   8]\n",
      " [ 26  35]]\n",
      "              precision    recall  f1-score   support\n",
      "\n",
      "           0       0.81      0.93      0.86       116\n",
      "           1       0.81      0.57      0.67        61\n",
      "\n",
      "    accuracy                           0.81       177\n",
      "   macro avg       0.81      0.75      0.77       177\n",
      "weighted avg       0.81      0.81      0.80       177\n",
      "\n"
     ]
    }
   ],
   "source": [
    "evaluate(LinearDiscriminantAnalysis(),X, y)"
   ]
  },
  {
   "cell_type": "code",
   "execution_count": null,
   "id": "4bcf2c6d",
   "metadata": {},
   "outputs": [],
   "source": []
  },
  {
   "cell_type": "code",
   "execution_count": null,
   "id": "9e9c87f6",
   "metadata": {},
   "outputs": [],
   "source": []
  },
  {
   "cell_type": "markdown",
   "id": "a79092ac",
   "metadata": {},
   "source": [
    "### GaussianNB"
   ]
  },
  {
   "cell_type": "code",
   "execution_count": 76,
   "id": "90f026f1",
   "metadata": {
    "execution": {
     "iopub.execute_input": "2023-05-16T21:36:57.532278Z",
     "iopub.status.busy": "2023-05-16T21:36:57.531895Z",
     "iopub.status.idle": "2023-05-16T21:36:57.562219Z",
     "shell.execute_reply": "2023-05-16T21:36:57.561044Z",
     "shell.execute_reply.started": "2023-05-16T21:36:57.532244Z"
    }
   },
   "outputs": [
    {
     "name": "stdout",
     "output_type": "stream",
     "text": [
      "model:  GaussianNB()\n",
      "Accuracy: 0.8135593220338984\n",
      "Precision: 0.8181818181818182\n",
      "Recall: 0.5901639344262295\n",
      "F1 Score: 0.6857142857142857\n",
      "AUC-ROC: 0.760599208592425\n",
      "Confusion Matrix:\n",
      " [[108   8]\n",
      " [ 25  36]]\n",
      "              precision    recall  f1-score   support\n",
      "\n",
      "           0       0.81      0.93      0.87       116\n",
      "           1       0.82      0.59      0.69        61\n",
      "\n",
      "    accuracy                           0.81       177\n",
      "   macro avg       0.82      0.76      0.78       177\n",
      "weighted avg       0.81      0.81      0.80       177\n",
      "\n"
     ]
    }
   ],
   "source": [
    "evaluate(GaussianNB(),X,y)"
   ]
  },
  {
   "cell_type": "code",
   "execution_count": null,
   "id": "17723e87",
   "metadata": {},
   "outputs": [],
   "source": []
  },
  {
   "cell_type": "code",
   "execution_count": null,
   "id": "50105ea0",
   "metadata": {},
   "outputs": [],
   "source": []
  },
  {
   "cell_type": "code",
   "execution_count": null,
   "id": "da372a47",
   "metadata": {},
   "outputs": [],
   "source": []
  },
  {
   "cell_type": "markdown",
   "id": "ca19ebcd",
   "metadata": {},
   "source": [
    "## MLPClassifier for predicting diabetes"
   ]
  },
  {
   "cell_type": "code",
   "execution_count": 77,
   "id": "346c1e3a",
   "metadata": {
    "execution": {
     "iopub.execute_input": "2023-05-16T21:36:57.564494Z",
     "iopub.status.busy": "2023-05-16T21:36:57.563609Z",
     "iopub.status.idle": "2023-05-16T21:36:58.033761Z",
     "shell.execute_reply": "2023-05-16T21:36:58.032545Z",
     "shell.execute_reply.started": "2023-05-16T21:36:57.564455Z"
    },
    "scrolled": true
   },
   "outputs": [
    {
     "name": "stdout",
     "output_type": "stream",
     "text": [
      "Accuracy on training set: 0.727\n",
      "Accuracy on test set: 0.734\n"
     ]
    }
   ],
   "source": [
    "mlp = MLPClassifier(max_iter=100, alpha=0.001,   random_state=0)\n",
    "mlp.fit(X_train, y_train)\n",
    "print(\"Accuracy on training set: {:.3f}\".format( mlp.score(X_train, y_train)))\n",
    "print(\"Accuracy on test set: {:.3f}\".format(mlp.score(X_test,y_test)))\n"
   ]
  },
  {
   "cell_type": "code",
   "execution_count": 78,
   "id": "03e8172c",
   "metadata": {
    "execution": {
     "iopub.execute_input": "2023-05-16T21:36:58.037695Z",
     "iopub.status.busy": "2023-05-16T21:36:58.036508Z",
     "iopub.status.idle": "2023-05-16T21:36:58.546660Z",
     "shell.execute_reply": "2023-05-16T21:36:58.545166Z",
     "shell.execute_reply.started": "2023-05-16T21:36:58.037627Z"
    }
   },
   "outputs": [
    {
     "name": "stdout",
     "output_type": "stream",
     "text": [
      "model:  MLPClassifier(alpha=1, max_iter=100)\n",
      "Accuracy: 0.711864406779661\n",
      "Precision: 0.75\n",
      "Recall: 0.2459016393442623\n",
      "F1 Score: 0.3703703703703703\n",
      "AUC-ROC: 0.6013990955342001\n",
      "Confusion Matrix:\n",
      " [[111   5]\n",
      " [ 46  15]]\n",
      "              precision    recall  f1-score   support\n",
      "\n",
      "           0       0.71      0.96      0.81       116\n",
      "           1       0.75      0.25      0.37        61\n",
      "\n",
      "    accuracy                           0.71       177\n",
      "   macro avg       0.73      0.60      0.59       177\n",
      "weighted avg       0.72      0.71      0.66       177\n",
      "\n"
     ]
    }
   ],
   "source": [
    "## We check   accuracy of the  MLP Classi fier algorithm for predicting diabetes\n",
    "evaluate(MLPClassifier(max_iter=100, alpha=1), X,y)"
   ]
  },
  {
   "cell_type": "code",
   "execution_count": null,
   "id": "746e03e6",
   "metadata": {},
   "outputs": [],
   "source": []
  },
  {
   "cell_type": "code",
   "execution_count": null,
   "id": "6719a7fe",
   "metadata": {},
   "outputs": [],
   "source": []
  },
  {
   "cell_type": "markdown",
   "id": "6d78fb1d",
   "metadata": {},
   "source": [
    "### SGDClassifier"
   ]
  },
  {
   "cell_type": "code",
   "execution_count": 79,
   "id": "2f9f7f31",
   "metadata": {
    "execution": {
     "iopub.execute_input": "2023-05-16T21:36:58.550351Z",
     "iopub.status.busy": "2023-05-16T21:36:58.549191Z",
     "iopub.status.idle": "2023-05-16T21:36:58.608849Z",
     "shell.execute_reply": "2023-05-16T21:36:58.607277Z",
     "shell.execute_reply.started": "2023-05-16T21:36:58.550290Z"
    }
   },
   "outputs": [
    {
     "name": "stdout",
     "output_type": "stream",
     "text": [
      "model:  SGDClassifier()\n",
      "Accuracy: 0.6045197740112994\n",
      "Precision: 0.45454545454545453\n",
      "Recall: 0.7377049180327869\n",
      "F1 Score: 0.5625\n",
      "AUC-ROC: 0.6360938383267384\n",
      "Confusion Matrix:\n",
      " [[62 54]\n",
      " [16 45]]\n",
      "              precision    recall  f1-score   support\n",
      "\n",
      "           0       0.79      0.53      0.64       116\n",
      "           1       0.45      0.74      0.56        61\n",
      "\n",
      "    accuracy                           0.60       177\n",
      "   macro avg       0.62      0.64      0.60       177\n",
      "weighted avg       0.68      0.60      0.61       177\n",
      "\n"
     ]
    }
   ],
   "source": [
    "evaluate(SGDClassifier(),X,y)"
   ]
  },
  {
   "cell_type": "code",
   "execution_count": null,
   "id": "34074e79",
   "metadata": {},
   "outputs": [],
   "source": []
  },
  {
   "cell_type": "code",
   "execution_count": null,
   "id": "8e0b62d2",
   "metadata": {},
   "outputs": [],
   "source": []
  },
  {
   "cell_type": "markdown",
   "id": "7d0606ad",
   "metadata": {},
   "source": [
    "### RandomForestClassifier"
   ]
  },
  {
   "cell_type": "code",
   "execution_count": 80,
   "id": "b4a363df",
   "metadata": {
    "execution": {
     "iopub.execute_input": "2023-05-16T21:36:58.612589Z",
     "iopub.status.busy": "2023-05-16T21:36:58.611453Z",
     "iopub.status.idle": "2023-05-16T21:36:58.940001Z",
     "shell.execute_reply": "2023-05-16T21:36:58.938224Z",
     "shell.execute_reply.started": "2023-05-16T21:36:58.612529Z"
    }
   },
   "outputs": [
    {
     "name": "stdout",
     "output_type": "stream",
     "text": [
      "model:  RandomForestClassifier()\n",
      "Accuracy: 0.807909604519774\n",
      "Precision: 0.7755102040816326\n",
      "Recall: 0.6229508196721312\n",
      "F1 Score: 0.6909090909090909\n",
      "AUC-ROC: 0.7640616167326173\n",
      "Confusion Matrix:\n",
      " [[105  11]\n",
      " [ 23  38]]\n",
      "              precision    recall  f1-score   support\n",
      "\n",
      "           0       0.82      0.91      0.86       116\n",
      "           1       0.78      0.62      0.69        61\n",
      "\n",
      "    accuracy                           0.81       177\n",
      "   macro avg       0.80      0.76      0.78       177\n",
      "weighted avg       0.80      0.81      0.80       177\n",
      "\n"
     ]
    }
   ],
   "source": [
    "evaluate(RandomForestClassifier(),X,y)"
   ]
  },
  {
   "cell_type": "code",
   "execution_count": null,
   "id": "bb069300",
   "metadata": {},
   "outputs": [],
   "source": []
  },
  {
   "cell_type": "code",
   "execution_count": null,
   "id": "1814fefa",
   "metadata": {},
   "outputs": [],
   "source": []
  },
  {
   "cell_type": "code",
   "execution_count": null,
   "id": "33435a5d",
   "metadata": {},
   "outputs": [],
   "source": []
  },
  {
   "cell_type": "code",
   "execution_count": null,
   "id": "4eb14926",
   "metadata": {},
   "outputs": [],
   "source": []
  }
 ],
 "metadata": {
  "kernelspec": {
   "display_name": "Python 3 (ipykernel)",
   "language": "python",
   "name": "python3"
  },
  "language_info": {
   "codemirror_mode": {
    "name": "ipython",
    "version": 3
   },
   "file_extension": ".py",
   "mimetype": "text/x-python",
   "name": "python",
   "nbconvert_exporter": "python",
   "pygments_lexer": "ipython3",
   "version": "3.9.0"
  }
 },
 "nbformat": 4,
 "nbformat_minor": 5
}
